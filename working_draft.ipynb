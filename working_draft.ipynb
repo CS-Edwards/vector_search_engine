{
  "nbformat": 4,
  "nbformat_minor": 0,
  "metadata": {
    "colab": {
      "provenance": [],
      "authorship_tag": "ABX9TyOLzVFQmNQSLfQLiwaqLr96",
      "include_colab_link": true
    },
    "kernelspec": {
      "name": "python3",
      "display_name": "Python 3"
    },
    "language_info": {
      "name": "python"
    }
  },
  "cells": [
    {
      "cell_type": "markdown",
      "metadata": {
        "id": "view-in-github",
        "colab_type": "text"
      },
      "source": [
        "<a href=\"https://colab.research.google.com/github/CS-Edwards/vector_search_engine/blob/main/working_draft.ipynb\" target=\"_parent\"><img src=\"https://colab.research.google.com/assets/colab-badge.svg\" alt=\"Open In Colab\"/></a>"
      ]
    },
    {
      "cell_type": "code",
      "execution_count": 157,
      "metadata": {
        "id": "Rai-ksOMEg1W"
      },
      "outputs": [],
      "source": [
        "import csv\n",
        "import re\n",
        "import json\n",
        "import pandas as pd\n",
        "from bs4 import BeautifulSoup\n",
        "from urllib.request import Request, urlopen"
      ]
    },
    {
      "cell_type": "markdown",
      "source": [
        "Utility Functions:\n",
        "\n",
        "\n",
        "\n"
      ],
      "metadata": {
        "id": "GDZmCse7FERT"
      }
    },
    {
      "cell_type": "code",
      "source": [
        "def get_all_links(url,tagIn, classIn):\n",
        "  req = Request(url)\n",
        "  html_page = urlopen(req)\n",
        "  soup = BeautifulSoup(html_page, \"lxml\")\n",
        "\n",
        "  links = list()\n",
        "\n",
        "  search_area = soup.find(tagIn, class_= classIn)\n",
        "\n",
        "  for link in search_area.findAll('a'):\n",
        "      links.append(link.get('href'))\n",
        "  \n",
        "  return links\n",
        "    \n"
      ],
      "metadata": {
        "id": "hwpm0wcaE8es"
      },
      "execution_count": null,
      "outputs": []
    },
    {
      "cell_type": "code",
      "source": [
        "def trim_link(link_list):\n",
        "    cleaned_list = list()\n",
        "\n",
        "    for i in range(len(link_list)):\n",
        "        l_link = link_list[i]\n",
        "        link = l_link[1:]\n",
        "        cleaned_list.append(link)\n",
        "    \n",
        "    return cleaned_list"
      ],
      "metadata": {
        "id": "QyQ6gYkZFMfI"
      },
      "execution_count": null,
      "outputs": []
    },
    {
      "cell_type": "code",
      "source": [
        "def course_num_title(course_title):\n",
        "    k=2\n",
        "    new_string_list = course_title.split(\" \",k)\n",
        "    #print(new_string_list)\n",
        "    course_num = new_string_list[0]+ \" \"+ new_string_list[1]\n",
        "    #print(course_num)\n",
        "    try:\n",
        "      new_string_list_1 = new_string_list[-1].split(\"(\")\n",
        "      new_string_list_1.pop()\n",
        "      course_title = new_string_list_1[0]\n",
        "\n",
        "      #print(course_title)\n",
        "      return [course_num, course_title]\n",
        "      \n",
        "    except IndexError:\n",
        "      print(IndexError)\n",
        "      print(course_title)\n",
        "      return [course_num,'title error']"
      ],
      "metadata": {
        "id": "HgB222bgFXlX"
      },
      "execution_count": 158,
      "outputs": []
    },
    {
      "cell_type": "markdown",
      "source": [
        "FIX FUNCTION TO APPEND TO EXISTING LIST EXTERIOR LIST -- NO RETURN; pass list in"
      ],
      "metadata": {
        "id": "ce5WnrCcTxOO"
      }
    },
    {
      "cell_type": "code",
      "source": [
        "from urllib.error import HTTPError\n",
        "def pull_course_reg(url):\n",
        "\n",
        "    try:\n",
        "      req = Request(url)\n",
        "      html_page = urlopen(req)\n",
        "\n",
        "      soup = BeautifulSoup(html_page, \"lxml\")\n",
        "\n",
        "      dept_name = soup.find('h1')\n",
        "      dept_name_cleaned = dept_name.text.strip()\n",
        "      #print(dept_name_cleaned)\n",
        "\n",
        "      search_table=soup.find_all(\"table\", class_=\"listOfClasses\")\n",
        "      #print(len(search_table))\n",
        "      #print(type(search_table))\n",
        "    \n",
        "    except HTTPError:\n",
        "      print(HTTPError)\n",
        "      print(url)\n",
        "      return\n",
        "\n",
        "    try:\n",
        "        working_table = search_table[0]\n",
        "    except IndexError:\n",
        "        print(IndexError)\n",
        "        print(dept_name_cleaned)\n",
        "        return -1  #flag an error\n",
        "\n",
        "    rows = list()\n",
        "    # Find all `tr` tags\n",
        "    data_rows = working_table.find_all('tr')\n",
        "\n",
        "    for row in data_rows:\n",
        "        value = row.find_all('td')\n",
        "        beautified_value = [ele.text.strip() for ele in value]\n",
        "        beautified_value.append(dept_name_cleaned) #add depatment name to end of row\n",
        "    # Remove data arrays that are empty\n",
        "        if len(beautified_value) == 0:\n",
        "            continue\n",
        "        rows.append(beautified_value)\n",
        "    \n",
        "    return rows"
      ],
      "metadata": {
        "id": "M-jMAOCCFfnp"
      },
      "execution_count": null,
      "outputs": []
    },
    {
      "cell_type": "code",
      "source": [
        "def pull_course_desc(url,desc_list_in):\n",
        "\n",
        "    try:  \n",
        "      req = Request(url)\n",
        "      html_page = urlopen(req)\n",
        "      soup = BeautifulSoup(html_page, \"lxml\")\n",
        "    except HTTPError:\n",
        "      print(HTTPError)\n",
        "      print(url)\n",
        "      return\n",
        "\n",
        "    try:\n",
        "      courses = soup.find_all(\"div\", class_=\"post-content\")\n",
        "      #print(type(courses))\n",
        "      #print(len(courses))\n",
        "\n",
        "      #desc_list = list()\n",
        "\n",
        "      for course in courses:\n",
        "          title = course.find('h2').getText()\n",
        "          #print(title) \n",
        "          course_info = course_num_title(title)\n",
        "          #description = course.find(\"div\",class_=\"entry-content\").getText() #or p tag\n",
        "          description = course.find('p').getText()\n",
        "          course_info.append(description)\n",
        "          desc_list_in.append(course_info)\n",
        "    \n",
        "    except AttributeError:\n",
        "      print(AttributeError)\n",
        "      print(url)\n",
        "      return\n",
        "   \n",
        "    #return desc_list"
      ],
      "metadata": {
        "id": "1aEq2cTJFjKn"
      },
      "execution_count": 159,
      "outputs": []
    },
    {
      "cell_type": "markdown",
      "source": [
        "text block"
      ],
      "metadata": {
        "id": "xM4ox4qJHGxk"
      }
    },
    {
      "cell_type": "code",
      "source": [
        "#UH Manoa Spring '23 Course Reg by Department\n",
        "reg_url = 'https://www.sis.hawaii.edu/uhdad/avail.classes?i=MAN&t=202330'\n",
        "raw_reg = get_all_links(reg_url,'div',\"columns\")\n",
        "raw_reg[:10]"
      ],
      "metadata": {
        "id": "R5KzNwIwHIWW"
      },
      "execution_count": null,
      "outputs": []
    },
    {
      "cell_type": "code",
      "source": [
        "reg_url_list = trim_link(raw_reg)\n",
        "print(len(reg_url_list))\n",
        "reg_url_list[:10]"
      ],
      "metadata": {
        "id": "9T86h6hEIlV-"
      },
      "execution_count": null,
      "outputs": []
    },
    {
      "cell_type": "code",
      "source": [
        "#UH Manoa Spring '23 Course Catalog Description by Department\n",
        "desc_url = 'https://manoa.hawaii.edu/catalog/courses-overview/'\n",
        "desc_list = get_all_links(desc_url,'ul',\"course-directory\")\n",
        "desc_list[:10]"
      ],
      "metadata": {
        "id": "fz3h6mHfIg1o"
      },
      "execution_count": null,
      "outputs": []
    },
    {
      "cell_type": "code",
      "source": [
        "print(len(desc_list))"
      ],
      "metadata": {
        "id": "3wmNNq0sMD-D"
      },
      "execution_count": null,
      "outputs": []
    },
    {
      "cell_type": "code",
      "source": [
        "#course registration list  -- all courses\n",
        "\n",
        "full_reg_list = list()\n",
        "\n",
        "reg_root = 'https://www.sis.hawaii.edu/uhdad'\n",
        "reg_url = reg_root + reg_url_list[0]\n",
        "print(reg_url)\n",
        "\n"
      ],
      "metadata": {
        "id": "qTs9m_R-MHY-"
      },
      "execution_count": null,
      "outputs": []
    },
    {
      "cell_type": "code",
      "source": [],
      "metadata": {
        "id": "1ZOuEBJpUBzR"
      },
      "execution_count": null,
      "outputs": []
    },
    {
      "cell_type": "markdown",
      "source": [
        "RE RUN WHEN MAINTENECE IS DONE, PASS IN Full_reg List as paremeter to fix nested output (do not append in for loop; append happens in function)"
      ],
      "metadata": {
        "id": "USDIFuWEUClR"
      }
    },
    {
      "cell_type": "code",
      "source": [
        "for i, dept in enumerate(reg_url_list):\n",
        "  reg_url = reg_root + reg_url_list[i]\n",
        "  full_reg_list.append(pull_course_reg(reg_url))\n",
        "  print(len(full_reg_list))"
      ],
      "metadata": {
        "id": "VymV3fEJODGl"
      },
      "execution_count": null,
      "outputs": []
    },
    {
      "cell_type": "code",
      "source": [],
      "metadata": {
        "id": "f4oHFA17QyKR"
      },
      "execution_count": null,
      "outputs": []
    },
    {
      "cell_type": "markdown",
      "source": [
        "NOTE: BANNER DOWN @ 1pm 12/3/22 for Upgrades (RERUN scrape at another time)"
      ],
      "metadata": {
        "id": "9ebhp_-8QytY"
      }
    },
    {
      "cell_type": "code",
      "source": [
        "  print(full_reg_list)"
      ],
      "metadata": {
        "id": "RZw-TqoLRDuW"
      },
      "execution_count": null,
      "outputs": []
    },
    {
      "cell_type": "markdown",
      "source": [
        "Sandbox Sample while sites are down."
      ],
      "metadata": {
        "id": "0VOKjiHXVb5M"
      }
    },
    {
      "cell_type": "code",
      "source": [
        "account_acm_course_reg = [['DA,NI', '87317', 'ACM 215', '001', 'Intro to 3D Computer AnimationRestriction: Department Approval', '3', 'J F Parente', '17', '0', '12', '13', 'W', '0130-0420p', 'CR 220', '01/09-05/12', 'Academy for Creative Media (ACM)'], ['DA,NI', '87320', 'ACM 216', '001', 'Fundamentals of AnimationRestriction: Department Approval', '3', 'L Margulies', '16', '0', '4', '21', 'M', '0130-0420p', 'CR 212', '01/09-05/12', 'Academy for Creative Media (ACM)'], ['DH', '81671', 'ACM 255', '001', 'Intro to CinemaRestriction: Major', '3', 'A H Ladner', '25', '18', '0', '30', 'W', '0930-1220p', 'CR 105', '01/09-05/12', 'Academy for Creative Media (ACM)'], ['DH', '88547', 'ACM 255', '002', 'Intro to Cinema', '3', 'A H Ladner', '37', '0', '12', '38', 'W', '0930-1220p', 'CR 105', '01/09-05/12', 'Academy for Creative Media (ACM)'], ['DA', '87322', 'ACM 310', '001', 'Cinematic Narrative ProductionRestriction: Major', '3', 'S E Schimmel', '18', '0', '16', '14', 'T', '0430-0720p', 'SAKAM B104', '01/09-05/12', 'Academy for Creative Media (ACM)'], ['DA', '87323', 'ACM 310', '002', 'Cinematic Narrative ProductionRestriction: Major', '3', 'F Titz', '18', '0', '14', '16', 'R', '0900-1150a', 'MOORE 102', '01/09-05/12', 'Academy for Creative Media (ACM)'], ['DA', '88554', 'ACM 312', '001', 'CinematographyRestriction: Department Approval', '3', 'F Titz', '10', '0', '0', '10', 'T', '0900-1150a', 'SAKAM B309', '01/09-05/12', 'Academy for Creative Media (ACM)'], ['DA', '87324', 'ACM 314', '001', 'Experimental Art and AnimationRestriction: Instructor Approval', '3', 'L Margulies', '10', '0', '10', '10', 'F', '0130-0420p', 'SAUND 242', '01/09-05/12', 'Academy for Creative Media (ACM)'], ['DA', '89144', 'ACM 316B', '001', 'Intermediate Animation: 3DRestriction: Department Approval', '3', 'J Hahm', '15', '3', '0', '10', 'M', '0130-0420p', 'CR 220', '01/09-05/12', 'Academy for Creative Media (ACM)'], ['DA', '88559', 'ACM 317', '001', '3D Cinematography and Dynamics(Light, Camera, and Render)Restriction: Major', '3', 'J Hahm', '18', '0', '7', '3', 'F', '0930-1220p', 'CR 220', '01/09-05/12', 'Academy for Creative Media (ACM)'], ['DA', '87325', 'ACM 320', '001', 'Animation Production IRestriction: Department Approval', '3', 'J F Parente', '9', '6', '0', '10', 'R', '0130-0420p', 'CR 220', '01/09-05/12', 'Academy for Creative Media (ACM)'], ['', '88560', 'ACM 325', '001', 'Visual EffectsRestriction: Major', '3', 'J F Parente', '18', '0', '4', '6', 'M', '0430-0720p', 'CR 220', '01/09-05/12', 'Academy for Creative Media (ACM)'], ['', '85861', 'ACM 330', '001', 'Independent ProducingRestriction: Major', '3', 'A M Misawa', '9', '7', '0', '10', 'W', '0430-0720p', 'SAKAM D103', '01/09-05/12', 'Academy for Creative Media (ACM)'], ['', '88548', 'ACM 330', '002', 'Independent ProducingRestriction: Major', '3', 'A M Misawa', '16', '0', '5', '5', 'R', '0130-0420p', 'SAKAM D103', '01/09-05/12', 'Academy for Creative Media (ACM)'], ['DA,WI', '85862', 'ACM 350', '001', 'ScreenwritingRestriction: Major', '3', 'J Moffett', '18', '0', '5', '5', 'T', '0430-0720p', 'SAKAM D103', '01/09-05/12', 'Academy for Creative Media (ACM)'], ['DA,TXT0,WI', '87241', 'ACM 350', '002', 'ScreenwritingRestriction: Major', '3', 'L Flanary', '18', '0', '10', '15', 'T', '0900-1150a', 'MOORE 102', '01/09-05/12', 'Academy for Creative Media (ACM)'], ['DA,TXT0,WI', '90031', 'ACM 350', '003', 'ScreenwritingRestriction: Major', '3', 'V Hereniko', '8', '10', '0', '20', 'M', '0930-1220p', 'WEB 104', '01/09-05/12', 'Academy for Creative Media (ACM)'], ['DH,TXT0', '88549', 'ACM 360', '001', 'Indigenous Aesthetics', '3', 'L Flanary', '30', '0', '18', '12', 'W', '0130-0420p', 'CR 115', '01/09-05/12', 'Academy for Creative Media (ACM)'], ['DA,OC', '88555', 'ACM 370', '001', 'Directing the Actor on ScreenRestriction: Department Approval', '3', 'J Moffett', '15', '0', '5', '5', 'R', '0130-0420p', 'SAKAM B309', '01/09-05/12', 'Academy for Creative Media (ACM)'], ['DA', '87326', 'ACM 372', '001', 'Editing for CinemaRestriction: Department Approval', '3', 'C Wang', '13', '2', '0', '10', 'T', '0130-0420p', 'CR 212', '01/09-05/12', 'Academy for Creative Media (ACM)'], ['DA', '87327', 'ACM 374', '001', 'Post Production SoundRestriction: Department Approval', '3', 'F Titz', '11', '4', '0', '10', 'W', '0130-0420p', 'CR 212', '01/09-05/12', 'Academy for Creative Media (ACM)'], ['DH,TXT0', '88550', 'ACM 380', '001', 'Genre/Narrative Theory(Decolonizing the Screen: Oceanic Cinema in the 21st Century)', '3', 'V Hereniko', '23', '7', '0', '10', 'F', '0930-1220p', 'CR 105', '01/09-05/12', 'Academy for Creative Media (ACM)'], ['DH', '88551', 'ACM 382', '001', 'Authors in Creative Media(Film Directors and Screenwriters)', '3', 'M Moody', '16', '44', '0', '10', 'M', '0530-0820p', 'CR 105', '01/09-05/12', 'Academy for Creative Media (ACM)'], ['', '88552', 'ACM 385', '001', 'Topics in Creative Media(Survey of U.S. Television)Restriction: Major', '3', 'C A Acham', '50', '0', '0', '10', 'M', '0130-0420p', 'CR 115', '01/09-05/12', 'Academy for Creative Media (ACM)'], ['', '88556', 'ACM 386', '001', 'Techniques in Creative Media(Dialogue Replacement and Foley)Restriction: Major', '3', 'C Wang', '13', '2', '0', '10', 'M', '0130-0420p', 'SL B08D', '01/09-05/12', 'Academy for Creative Media (ACM)'], ['DA,TXT0', '87329', 'ACM 405', '001', 'Documentary ProductionRestriction: Department Approval', '3', 'L Flanary', '7', '8', '0', '10', 'R', '0900-1150a', 'KUY 304', '01/09-05/12', 'Academy for Creative Media (ACM)'], ['DA,OC', '87330', 'ACM 410', '001', 'Advanced Cinematic ProductionRestriction: Department Approval', '3', 'T Takemoto-Chock', '5', '10', '0', '10', 'T', '0130-0420p', 'SAKAM D103', '01/09-05/12', 'Academy for Creative Media (ACM)'], ['DA', '88558', 'ACM 420', '001', 'Animation Production IIRestriction: Department Approval', '3', 'J Hahm', '9', '6', '0', '10', 'R', '0900-1150a', 'CR 220', '01/09-05/12', 'Academy for Creative Media (ACM)'], ['DA,WI', '86628', 'ACM 450', '001', 'Advanced ScreenwritingRestriction: Major', '3', 'J Moffett', '12', '3', '0', '10', 'W', '0130-0420p', 'SAKAM C301', '01/09-05/12', 'Academy for Creative Media (ACM)'], ['DH,WI', '89149', 'ACM 452C', '001', 'History and Film: Europe(Modern Europe)', '3', 'P Hoffenberg', '16', '0', '10', '0', 'MWF', '0930-1020a', 'GAR 101', '01/09-05/12', 'Academy for Creative Media (ACM)'], ['ETH', '88553', 'ACM 460', '001', 'Ethics and FilmRestriction: Major', '3', 'M Moody', '30', '30', '0', '10', 'W', '0530-0820p', 'CR 105', '01/09-05/12', 'Academy for Creative Media (ACM)'], ['WI', '88557', 'ACM 475', '001', 'Narrative Feature ScreenplayRestriction: Major', '3', 'M Moody', '4', '8', '0', '10', 'T', '0130-0420p', 'SAKAM B309', '01/09-05/12', 'Academy for Creative Media (ACM)'], ['DA', '87331', 'ACM 486', '001', 'Capstone Creative ProductionRestriction: Department Approval', '3', 'S E Schimmel', '12', '3', '0', '10', 'R', '0430-0720p', 'WEB 101', '01/09-05/12', 'Academy for Creative Media (ACM)'], ['', '89153', 'ACM 487', '001', 'Video Game DesignRestriction: Department Approval', '3', 'R S Tabalba', '10', '0', '11', '19', 'W', '0300-0530p', 'KELL 103', '01/09-05/12', 'Academy for Creative Media (ACM)'],['', '86565', 'ACC 200', '001', 'Introduction to Accounting I', '3', 'D C Yang', '12', '28', '0', '10', 'TR', '0900-1015a', 'BUSAD D106', '01/09-05/12', 'Accounting (ACC)'], ['', '86567', 'ACC 200', '002', 'Introduction to Accounting I', '3', 'D C Yang', '22', '18', '0', '10', 'TR', '1030-1145a', 'BUSAD D106', '01/09-05/12', 'Accounting (ACC)'], ['', '86569', 'ACC 200', '003', 'Introduction to Accounting I', '3', 'D C Yang', '32', '8', '0', '10', 'TR', '1200-0115p', 'BUSAD D106', '01/09-05/12', 'Accounting (ACC)'], ['', '86571', 'ACC 200', '004', 'Introduction to Accounting I', '3', 'K V Santaniello', '28', '12', '0', '10', 'WF', '0900-1015a', 'KUY 306', '01/09-05/12', 'Accounting (ACC)'], ['', '86572', 'ACC 200', '005', 'Introduction to Accounting I', '3', 'K V Santaniello', '40', '0', '2', '8', 'WF', '1030-1145a', 'KUY 306', '01/09-05/12', 'Accounting (ACC)'], ['', '88529', 'ACC 200', '006', 'Introduction to Accounting I', '3', 'L Guan', '18', '22', '0', '10', 'WF', '1200-0115p', 'BUSAD D103', '01/09-05/12', 'Accounting (ACC)'], ['', '88530', 'ACC 200', '007', 'Introduction to Accounting I', '3', 'L Guan', '12', '28', '0', '10', 'WF', '0130-0245p', 'BUSAD D103', '01/09-05/12', 'Accounting (ACC)'], ['NI', '87334', 'ACC 210', '001', 'Introduction to Accounting II', '3', 'J N Teruya', '39', '1', '0', '15', 'TR', '0900-1015a', 'BUSAD D101', '01/09-05/12', 'Accounting (ACC)'], ['NI', '87335', 'ACC 210', '002', 'Introduction to Accounting II', '3', 'J N Teruya', '39', '0', '12', '3', 'TR', '1030-1145a', 'BUSAD D101', '01/09-05/12', 'Accounting (ACC)'], ['NI', '87336', 'ACC 210', '003', 'Introduction to Accounting II', '3', 'C M Kaiama', '40', '0', '10', '0', 'TR', '1200-0115p', 'BUSAD D101', '01/09-05/12', 'Accounting (ACC)'], ['NI', '87337', 'ACC 210', '004', 'Introduction to Accounting II', '3', 'B Jung', '31', '9', '0', '10', 'WF', '0900-1015a', 'BUSAD D106', '01/09-05/12', 'Accounting (ACC)'], ['NI', '87338', 'ACC 210', '005', 'Introduction to Accounting II', '3', 'Y Park', '40', '0', '2', '8', 'WF', '1200-0115p', 'BUSAD C101', '01/09-05/12', 'Accounting (ACC)'], ['NI', '87339', 'ACC 210', '006', 'Introduction to Accounting II', '3', 'Y Park', '32', '8', '0', '10', 'WF', '1030-1145a', 'BUSAD C101', '01/09-05/12', 'Accounting (ACC)'], ['NI', '88527', 'ACC 210', '007', 'Introduction to Accounting II', '3', 'C M Kaiama', '40', '0', '10', '0', 'TR', '0130-0245p', 'BUSAD D101', '01/09-05/12', 'Accounting (ACC)'], ['NI', '88528', 'ACC 210', '008', 'Introduction to Accounting II', '3', 'J Jung', '6', '34', '0', '10', 'WF', '0130-0245p', 'KUY 306', '01/09-05/12', 'Accounting (ACC)'], ['NI', '89125', 'ACC 210', '009', 'Introduction to Accounting II', '3', 'J Jung', '17', '23', '0', '10', 'WF', '1200-0115p', 'KUY 306', '01/09-05/12', 'Accounting (ACC)'], ['', '80001', 'ACC 321', '001', 'Intermediate Financial Acc IRestriction: College', '3', 'S J Daniel', '16', '24', '0', '10', 'WF', '1030-1145a', 'BUSAD D106', '01/09-05/12', 'Accounting (ACC)'], ['', '80002', 'ACC 321', '002', 'Intermediate Financial Acc IRestriction: College', '3', 'S J Daniel', '15', '25', '0', '10', 'WF', '1200-0115p', 'BUSAD D106', '01/09-05/12', 'Accounting (ACC)'], ['', '80003', 'ACC 323', '001', 'Intermediate Financial Acc IIRestriction: College', '3', 'M C Woollen', '37', '0', '5', '5', 'WF', '1030-1145a', 'BUSAD D203', '01/09-05/12', 'Accounting (ACC)'], ['', '80004', 'ACC 323', '002', 'Intermediate Financial Acc IIRestriction: College', '3', 'M C Woollen', '22', '15', '0', '10', 'WF', '1200-0115p', 'BUSAD D203', '01/09-05/12', 'Accounting (ACC)'], ['', '82633', 'ACC 395', '001', 'Accounting InternshipRestriction: Instructor Approval', '1-3', 'R W Varley', '15', '25', '0', '10', 'TBA', 'TBA', 'TBA TBA', '01/09-05/12', 'Accounting (ACC)'], ['', '80005', 'ACC 401', '001', 'Federal Individl Income TaxatnRestriction: College', '3', 'M C Woollen', '12', '28', '0', '10', 'TR', '1030-1145a', 'BUSAD D103', '01/09-05/12', 'Accounting (ACC)'], ['', '80006', 'ACC 401', '002', 'Federal Individl Income TaxatnRestriction: College', '3', 'M C Woollen', '22', '18', '0', '10', 'TR', '1200-0115p', 'BUSAD D103', '01/09-05/12', 'Accounting (ACC)'], ['', '86576', 'ACC 409', '001', 'Accounting Information SystemsRestriction: College', '3', 'J Lim', '39', '0', '10', '0', 'TR', '0900-1015a', 'BUSAD D103', '01/09-05/12', 'Accounting (ACC)'], ['', '86575', 'ACC 409', '002', 'Accounting Information SystemsRestriction: College', '3', 'TBA', '0', '0', '', '', 'T', '0600-0845p', 'BUSAD D104', '01/09-05/12', 'Accounting (ACC)'], ['', '88531', 'ACC 413', '001', 'Law for the AccountantRestriction: College', '3', 'T J Messinger', '14', '26', '0', '10', 'R', '0600-0845p', 'BUSAD D101', '01/09-05/12', 'Accounting (ACC)'], ['WI', '84377', 'ACC 418', '001', 'AuditingRestriction: College', '3', 'G T Nishikawa', '20', '0', '9', '1', 'WF', '0900-1015a', 'BUSAD C103', '01/09-05/12', 'Accounting (ACC)'], ['WI', '82632', 'ACC 418', '002', 'AuditingRestriction: College', '3', 'J Zhou', '20', '0', '2', '8', 'WF', '1030-1145a', 'BUSAD D102', '01/09-05/12', 'Accounting (ACC)'], ['WI', '84877', 'ACC 418', '003', 'AuditingRestriction: College', '3', 'TBA', '0', '0', '', '', 'W', '0600-0845p', 'BUSAD E203', '01/09-05/12', 'Accounting (ACC)'], ['', 'ACC 460B meets from \"1/9-3/2\"; ACC 460E meets from \"3/9-5/16\". ACC 460B 001 MUST be taken concurrently with ACC 460E 001.', 'Accounting (ACC)'], ['', '87308', 'ACC 460B', '001', 'Acc Capstone: ManagerialRestriction: Major', '1', 'M J Mitsuyasu', '20', '0', '2', '8', 'R', '0900-1045a', 'BUSAD D301', '01/09-03/02', 'Accounting (ACC)'], ['', 'ACC 460B meets from \"1/9-3/2\"; ACC 460E meets from 3/9-5/16. ACC 460B 002 MUST be taken concurrently with ACC 460E 002.', 'Accounting (ACC)'], ['', '87309', 'ACC 460B', '002', 'Acc Capstone: ManagerialRestriction: Major', '1', 'M J Mitsuyasu', '20', '0', '6', '4', 'R', '1100-1245p', 'BUSAD D301', '01/09-03/02', 'Accounting (ACC)'], ['', 'ACC 460B meets from \"1/9-3/2\"; ACC 460E meets from 3/9-5/16. ACC 460B 003 MUST be taken concurrently with ACC 460E 003.', 'Accounting (ACC)'], ['', '87310', 'ACC 460B', '003', 'Acc Capstone: ManagerialRestriction: Major', '1', 'TBA', '0', '0', '', '', 'R', '0100-0245p', 'BUSAD D301', '01/09-03/02', 'Accounting (ACC)'], ['', 'ACC 460C meets from 1/9-2/28; ACC 460D meets from \"3/7-5/16\". ACC 460C 001 MUST be taken concurrently with ACC 460D 001', 'Accounting (ACC)'], ['', '88546', 'ACC 460C', '001', 'Acc Capstone: FinancialRestriction: Major', '1', 'Y Park', '19', '1', '0', '10', 'T', '0900-1045a', 'BUSAD D301', '01/09-03/02', 'Accounting (ACC)'], ['', 'ACC 460C meets from \"1/9-2/28\"; ACC 460D meets from \"3/7-5/16\". ACC 460C 002 MUST be taken concurrently with ACC 460D 002', 'Accounting (ACC)'], ['', '87312', 'ACC 460C', '002', 'Acc Capstone: FinancialRestriction: Major', '1', 'Y Park', '20', '0', '4', '6', 'T', '1100-1245p', 'BUSAD D301', '01/09-02/28', 'Accounting (ACC)'], ['', 'ACC 460C meets from \"1/9-2/28\"; ACC 460D meets from \"3/7-5/16\". ACC 460C 003 MUST be taken concurrently with ACC 460D 003.', 'Accounting (ACC)'], ['', '87313', 'ACC 460C', '003', 'Acc Capstone: FinancialRestriction: Major', '1', 'TBA', '0', '0', '', '', 'T', '0100-0245p', 'BUSAD D301', '01/09-02/28', 'Accounting (ACC)'], ['', 'ACC 460D meets from \"3/7-5/16\"; ACC 460C meets from \"1/9-2/28\". ACC 460D 001 MUST be taken concurrently with ACC 460C 001', 'Accounting (ACC)'], ['', '87314', 'ACC 460D', '001', 'Acc Capstone: Auditing and AISRestriction: Major', '1', 'J R Mendez', '20', '0', '0', '10', 'T', '0900-1045a', 'BUSAD D301', '03/07-05/12', 'Accounting (ACC)'], ['', 'ACC 460D meets from \"3/7-5/16\"; ACC 460C meets from \"1/9-2/28\". ACC 460D 002 MUST be taken concurrently with ACC 460C 002', 'Accounting (ACC)'], ['', '87315', 'ACC 460D', '002', 'Acc Capstone: Auditing and AISRestriction: Major', '1', 'J R Mendez', '20', '0', '5', '5', 'T', '1100-1245p', 'BUSAD D301', '03/07-05/12', 'Accounting (ACC)'], ['', 'ACC 460D meets from \"3/7-5/16\"; ACC 460C meets from \"1/9-2/28\". ACC 460D 002 MUST be taken concurrently with ACC 460C 003.', 'Accounting (ACC)'], ['', '87316', 'ACC 460D', '003', 'Acc Capstone: Auditing and AISRestriction: Major', '1', 'TBA', '0', '0', '0', '10', 'T', '0100-0245p', 'BUSAD D301', '03/07-05/12', 'Accounting (ACC)'], ['', 'ACC 460E meets from \"3/7-5/16\"; ACC 460B meets from \"1/9-3/2\". ACC 460E 001 MUST be taken concurrently with ACC 460B 001.', 'Accounting (ACC)'], ['WI', '84378', 'ACC 460E', '001', 'Acc Capstone: Tax and EthicsRestriction: Major', '1', 'T C Pearson', '20', '0', '3', '7', 'R', '0900-1045a', 'BUSAD D301', '03/09-05/12', 'Accounting (ACC)'], ['', 'ACC 460E meets from \"3/9-5/16\"; ACC 460B meets from \"1/9-3/2\". ACC 460E 002 MUST be taken concurrently with ACC 460B 002.', 'Accounting (ACC)'], ['WI', '84379', 'ACC 460E', '002', 'Acc Capstone: Tax and EthicsRestriction: Major', '1', 'T C Pearson', '20', '0', '7', '3', 'R', '1100-1245p', 'BUSAD D301', '03/09-05/12', 'Accounting (ACC)'], ['', 'ACC 460E meets from \"3/9-5/16\"; ACC 460B meets from \"1/9-3/2\". ACC 460E 003 MUST be taken concurrently with ACC 460B 003.', 'Accounting (ACC)'], ['WI', '84380', 'ACC 460E', '003', 'Acc Capstone: Tax and EthicsRestriction: Major', '1', 'TBA', '0', '0', '', '', 'R', '0100-0245p', 'BUSAD D301', '03/09-05/12', 'Accounting (ACC)'], ['', '85795', 'ACC 602', '001', 'CPA-Audit and Attestation', '1', 'H Pourjalali', '0', '0', '', '', 'TBA', 'TBA', 'TBA TBA', '01/09-05/12', 'Accounting (ACC)'], ['', '85794', 'ACC 603', '001', 'CPA-BEC', '1', 'H Pourjalali', '2', '0', '', '', 'TBA', 'TBA', 'TBA TBA', '01/09-05/12', 'Accounting (ACC)'], ['', '85796', 'ACC 604', '001', 'CPA-FAR', '1', 'H Pourjalali', '1', '0', '', '', 'TBA', 'TBA', 'TBA TBA', '01/09-05/12', 'Accounting (ACC)'], ['', '85797', 'ACC 605', '001', 'CPA-Regulation', '1', 'H Pourjalali', '1', '0', '', '', 'TBA', 'TBA', 'TBA TBA', '01/09-05/12', 'Accounting (ACC)'], ['', '85311', 'ACC 619', '001', 'Info Assurance & AnalyticsRestriction: Major', '3', 'J Lim', '11', '29', '0', '10', 'T', '0600-0845p', 'BUSAD D101', '01/09-05/12', 'Accounting (ACC)'], ['', '83526', 'ACC 625', '001', 'Accounting & Tax ResearchRestriction: Major', '3', 'T C Pearson', '13', '12', '0', '10', 'W', '0600-0845p', 'BUSAD E201', '01/09-05/12', 'Accounting (ACC)'], ['', 'ACC 648 001 Must be taken concurrently with ACC 660 00', 'Accounting (ACC)'], ['', '85793', 'ACC 648', '001', 'Financial Statements Analysis', '1', 'M J Mitsuyasu', '12', '13', '0', '10', 'M', '0746-0845p', 'BUSAD E202', '01/09-05/12', 'Accounting (ACC)'], ['', 'ACC 660 001 Must be taken concurrently with ACC 648 001', 'Accounting (ACC)'], ['', '80008', 'ACC 660', '001', 'Analysis & Decision-MakingRestriction: Department Approval', '2', 'H Pourjalali', '12', '13', '0', '10', 'M', '0600-0745p', 'BUSAD E202', '01/09-05/12', 'Accounting (ACC)'], ['', '83528', 'ACC 695', '001', 'Accounting InternshipRestriction: Instructor Approval', '1-3', 'R W Varley', '2', '23', '0', '10', 'TBA', 'TBA', 'TBA TBA', '01/09-05/12', 'Accounting (ACC)']]"
      ],
      "metadata": {
        "id": "PMo9R2mPRQd2"
      },
      "execution_count": 160,
      "outputs": []
    },
    {
      "cell_type": "code",
      "source": [
        "#courses in reg\n",
        "print(len(account_acm_course_reg))"
      ],
      "metadata": {
        "colab": {
          "base_uri": "https://localhost:8080/"
        },
        "id": "yj2t_bjzVkXW",
        "outputId": "5338af96-0aaa-4711-f28f-e1e9b36517b4"
      },
      "execution_count": 161,
      "outputs": [
        {
          "output_type": "stream",
          "name": "stdout",
          "text": [
            "98\n"
          ]
        }
      ]
    },
    {
      "cell_type": "code",
      "source": [
        "#all course descriptions from catalog\n",
        "full_course_desc_list = list()\n",
        "\n",
        "#RUN WHEN DOING FULL IMPLEMENTATION (Over 2 mins to run)\n",
        "# for dept in desc_list:\n",
        "#   pull_course_desc(dept,full_course_desc_list)\n",
        "#   print(len(full_course_desc_list))\n",
        "\n"
      ],
      "metadata": {
        "id": "aGx5Qv8-VoeH"
      },
      "execution_count": 162,
      "outputs": []
    },
    {
      "cell_type": "code",
      "source": [
        "temp_desc_list = ['https://manoa.hawaii.edu/catalog/category/arts-languages-letters/acm/',\n",
        " 'https://manoa.hawaii.edu/catalog/category/business/acc/']\n",
        "\n",
        "for dept in temp_desc_list:\n",
        "  pull_course_desc(dept,full_course_desc_list)\n",
        "  print(len(full_course_desc_list))"
      ],
      "metadata": {
        "colab": {
          "base_uri": "https://localhost:8080/"
        },
        "id": "1RIYCozNajCi",
        "outputId": "0bb0c889-e3a3-4603-96d6-586d7c88748f"
      },
      "execution_count": 163,
      "outputs": [
        {
          "output_type": "stream",
          "name": "stdout",
          "text": [
            "51\n",
            "91\n"
          ]
        }
      ]
    },
    {
      "cell_type": "code",
      "source": [
        "#list to dataframe --> then merge on course \n",
        "\n",
        "#description list to dataframe\n",
        "df_desc = pd.DataFrame (full_course_desc_list, columns = ['course','course_name','description'])\n",
        "df_desc"
      ],
      "metadata": {
        "colab": {
          "base_uri": "https://localhost:8080/",
          "height": 424
        },
        "id": "0ez92Z1Wa_gW",
        "outputId": "433f1e5a-e091-481d-85b1-0d08112c9b73"
      },
      "execution_count": 164,
      "outputs": [
        {
          "output_type": "execute_result",
          "data": {
            "text/plain": [
              "     course                                        course_name  \\\n",
              "0   ACM 210      Introduction to Cinematic Digital Production    \n",
              "1   ACM 215             Introduction to 3D Computer Animation    \n",
              "2   ACM 216                         Fundamentals of Animation    \n",
              "3   ACM 255          Introduction to Cinema and Digital Media    \n",
              "4   ACM 310                    Cinematic Narrative Production    \n",
              "..      ...                                                ...   \n",
              "86  ACC 702                    Managerial Accounting Research    \n",
              "87  ACC 703                 Research in Behavioral Accounting    \n",
              "88  ACC 704        Research in Accounting Information Systems    \n",
              "89  ACC 705  Research in Auditing and International Account...   \n",
              "90  ACC 799                     Directed Reading and Research    \n",
              "\n",
              "                                          description  \n",
              "0   Introduction to the basic techniques of cinema...  \n",
              "1   A basic overview of the 3D animation productio...  \n",
              "2   Introduction to traditional styles and methods...  \n",
              "3   Introduction to the study of cinema: history, ...  \n",
              "4   Production-intensive course with collaborative...  \n",
              "..                                                ...  \n",
              "86  Provides an overview of managerial accounting ...  \n",
              "87  Provides an overview of accounting research in...  \n",
              "88  Provides an overview of accounting research in...  \n",
              "89  Provides an overview of accounting research in...  \n",
              "90  Reading and research in an area of accounting ...  \n",
              "\n",
              "[91 rows x 3 columns]"
            ],
            "text/html": [
              "\n",
              "  <div id=\"df-6b03648b-a42c-42ed-ab2b-bc52ff733f48\">\n",
              "    <div class=\"colab-df-container\">\n",
              "      <div>\n",
              "<style scoped>\n",
              "    .dataframe tbody tr th:only-of-type {\n",
              "        vertical-align: middle;\n",
              "    }\n",
              "\n",
              "    .dataframe tbody tr th {\n",
              "        vertical-align: top;\n",
              "    }\n",
              "\n",
              "    .dataframe thead th {\n",
              "        text-align: right;\n",
              "    }\n",
              "</style>\n",
              "<table border=\"1\" class=\"dataframe\">\n",
              "  <thead>\n",
              "    <tr style=\"text-align: right;\">\n",
              "      <th></th>\n",
              "      <th>course</th>\n",
              "      <th>course_name</th>\n",
              "      <th>description</th>\n",
              "    </tr>\n",
              "  </thead>\n",
              "  <tbody>\n",
              "    <tr>\n",
              "      <th>0</th>\n",
              "      <td>ACM 210</td>\n",
              "      <td>Introduction to Cinematic Digital Production</td>\n",
              "      <td>Introduction to the basic techniques of cinema...</td>\n",
              "    </tr>\n",
              "    <tr>\n",
              "      <th>1</th>\n",
              "      <td>ACM 215</td>\n",
              "      <td>Introduction to 3D Computer Animation</td>\n",
              "      <td>A basic overview of the 3D animation productio...</td>\n",
              "    </tr>\n",
              "    <tr>\n",
              "      <th>2</th>\n",
              "      <td>ACM 216</td>\n",
              "      <td>Fundamentals of Animation</td>\n",
              "      <td>Introduction to traditional styles and methods...</td>\n",
              "    </tr>\n",
              "    <tr>\n",
              "      <th>3</th>\n",
              "      <td>ACM 255</td>\n",
              "      <td>Introduction to Cinema and Digital Media</td>\n",
              "      <td>Introduction to the study of cinema: history, ...</td>\n",
              "    </tr>\n",
              "    <tr>\n",
              "      <th>4</th>\n",
              "      <td>ACM 310</td>\n",
              "      <td>Cinematic Narrative Production</td>\n",
              "      <td>Production-intensive course with collaborative...</td>\n",
              "    </tr>\n",
              "    <tr>\n",
              "      <th>...</th>\n",
              "      <td>...</td>\n",
              "      <td>...</td>\n",
              "      <td>...</td>\n",
              "    </tr>\n",
              "    <tr>\n",
              "      <th>86</th>\n",
              "      <td>ACC 702</td>\n",
              "      <td>Managerial Accounting Research</td>\n",
              "      <td>Provides an overview of managerial accounting ...</td>\n",
              "    </tr>\n",
              "    <tr>\n",
              "      <th>87</th>\n",
              "      <td>ACC 703</td>\n",
              "      <td>Research in Behavioral Accounting</td>\n",
              "      <td>Provides an overview of accounting research in...</td>\n",
              "    </tr>\n",
              "    <tr>\n",
              "      <th>88</th>\n",
              "      <td>ACC 704</td>\n",
              "      <td>Research in Accounting Information Systems</td>\n",
              "      <td>Provides an overview of accounting research in...</td>\n",
              "    </tr>\n",
              "    <tr>\n",
              "      <th>89</th>\n",
              "      <td>ACC 705</td>\n",
              "      <td>Research in Auditing and International Account...</td>\n",
              "      <td>Provides an overview of accounting research in...</td>\n",
              "    </tr>\n",
              "    <tr>\n",
              "      <th>90</th>\n",
              "      <td>ACC 799</td>\n",
              "      <td>Directed Reading and Research</td>\n",
              "      <td>Reading and research in an area of accounting ...</td>\n",
              "    </tr>\n",
              "  </tbody>\n",
              "</table>\n",
              "<p>91 rows × 3 columns</p>\n",
              "</div>\n",
              "      <button class=\"colab-df-convert\" onclick=\"convertToInteractive('df-6b03648b-a42c-42ed-ab2b-bc52ff733f48')\"\n",
              "              title=\"Convert this dataframe to an interactive table.\"\n",
              "              style=\"display:none;\">\n",
              "        \n",
              "  <svg xmlns=\"http://www.w3.org/2000/svg\" height=\"24px\"viewBox=\"0 0 24 24\"\n",
              "       width=\"24px\">\n",
              "    <path d=\"M0 0h24v24H0V0z\" fill=\"none\"/>\n",
              "    <path d=\"M18.56 5.44l.94 2.06.94-2.06 2.06-.94-2.06-.94-.94-2.06-.94 2.06-2.06.94zm-11 1L8.5 8.5l.94-2.06 2.06-.94-2.06-.94L8.5 2.5l-.94 2.06-2.06.94zm10 10l.94 2.06.94-2.06 2.06-.94-2.06-.94-.94-2.06-.94 2.06-2.06.94z\"/><path d=\"M17.41 7.96l-1.37-1.37c-.4-.4-.92-.59-1.43-.59-.52 0-1.04.2-1.43.59L10.3 9.45l-7.72 7.72c-.78.78-.78 2.05 0 2.83L4 21.41c.39.39.9.59 1.41.59.51 0 1.02-.2 1.41-.59l7.78-7.78 2.81-2.81c.8-.78.8-2.07 0-2.86zM5.41 20L4 18.59l7.72-7.72 1.47 1.35L5.41 20z\"/>\n",
              "  </svg>\n",
              "      </button>\n",
              "      \n",
              "  <style>\n",
              "    .colab-df-container {\n",
              "      display:flex;\n",
              "      flex-wrap:wrap;\n",
              "      gap: 12px;\n",
              "    }\n",
              "\n",
              "    .colab-df-convert {\n",
              "      background-color: #E8F0FE;\n",
              "      border: none;\n",
              "      border-radius: 50%;\n",
              "      cursor: pointer;\n",
              "      display: none;\n",
              "      fill: #1967D2;\n",
              "      height: 32px;\n",
              "      padding: 0 0 0 0;\n",
              "      width: 32px;\n",
              "    }\n",
              "\n",
              "    .colab-df-convert:hover {\n",
              "      background-color: #E2EBFA;\n",
              "      box-shadow: 0px 1px 2px rgba(60, 64, 67, 0.3), 0px 1px 3px 1px rgba(60, 64, 67, 0.15);\n",
              "      fill: #174EA6;\n",
              "    }\n",
              "\n",
              "    [theme=dark] .colab-df-convert {\n",
              "      background-color: #3B4455;\n",
              "      fill: #D2E3FC;\n",
              "    }\n",
              "\n",
              "    [theme=dark] .colab-df-convert:hover {\n",
              "      background-color: #434B5C;\n",
              "      box-shadow: 0px 1px 3px 1px rgba(0, 0, 0, 0.15);\n",
              "      filter: drop-shadow(0px 1px 2px rgba(0, 0, 0, 0.3));\n",
              "      fill: #FFFFFF;\n",
              "    }\n",
              "  </style>\n",
              "\n",
              "      <script>\n",
              "        const buttonEl =\n",
              "          document.querySelector('#df-6b03648b-a42c-42ed-ab2b-bc52ff733f48 button.colab-df-convert');\n",
              "        buttonEl.style.display =\n",
              "          google.colab.kernel.accessAllowed ? 'block' : 'none';\n",
              "\n",
              "        async function convertToInteractive(key) {\n",
              "          const element = document.querySelector('#df-6b03648b-a42c-42ed-ab2b-bc52ff733f48');\n",
              "          const dataTable =\n",
              "            await google.colab.kernel.invokeFunction('convertToInteractive',\n",
              "                                                     [key], {});\n",
              "          if (!dataTable) return;\n",
              "\n",
              "          const docLinkHtml = 'Like what you see? Visit the ' +\n",
              "            '<a target=\"_blank\" href=https://colab.research.google.com/notebooks/data_table.ipynb>data table notebook</a>'\n",
              "            + ' to learn more about interactive tables.';\n",
              "          element.innerHTML = '';\n",
              "          dataTable['output_type'] = 'display_data';\n",
              "          await google.colab.output.renderOutput(dataTable, element);\n",
              "          const docLink = document.createElement('div');\n",
              "          docLink.innerHTML = docLinkHtml;\n",
              "          element.appendChild(docLink);\n",
              "        }\n",
              "      </script>\n",
              "    </div>\n",
              "  </div>\n",
              "  "
            ]
          },
          "metadata": {},
          "execution_count": 164
        }
      ]
    },
    {
      "cell_type": "code",
      "source": [
        "#registration list to dataframe\n",
        "reg_col = ['GenEd/Focus/Special Des.','CRN','course','Section','Title','Credits','Instructor', 'Curr.Enrolled','Seatsavail','Curr.Waitlisted','Waitavail.','Days','Time','Room','Dates','Department']\n",
        "df_reg = pd.DataFrame (account_acm_course_reg, columns = reg_col)  #change var to full_reg_list\n",
        "df_reg"
      ],
      "metadata": {
        "colab": {
          "base_uri": "https://localhost:8080/",
          "height": 659
        },
        "id": "mzUWTymybq6e",
        "outputId": "2ee01813-88ea-4b51-92d6-32b103a83e39"
      },
      "execution_count": 165,
      "outputs": [
        {
          "output_type": "execute_result",
          "data": {
            "text/plain": [
              "   GenEd/Focus/Special Des.  \\\n",
              "0                     DA,NI   \n",
              "1                     DA,NI   \n",
              "2                        DH   \n",
              "3                        DH   \n",
              "4                        DA   \n",
              "..                      ...   \n",
              "93                            \n",
              "94                            \n",
              "95                            \n",
              "96                            \n",
              "97                            \n",
              "\n",
              "                                                  CRN            course  \\\n",
              "0                                               87317           ACM 215   \n",
              "1                                               87320           ACM 216   \n",
              "2                                               81671           ACM 255   \n",
              "3                                               88547           ACM 255   \n",
              "4                                               87322           ACM 310   \n",
              "..                                                ...               ...   \n",
              "93  ACC 648 001 Must be taken concurrently with AC...  Accounting (ACC)   \n",
              "94                                              85793           ACC 648   \n",
              "95  ACC 660 001 Must be taken concurrently with AC...  Accounting (ACC)   \n",
              "96                                              80008           ACC 660   \n",
              "97                                              83528           ACC 695   \n",
              "\n",
              "   Section                                              Title Credits  \\\n",
              "0      001  Intro to 3D Computer AnimationRestriction: Dep...       3   \n",
              "1      001  Fundamentals of AnimationRestriction: Departme...       3   \n",
              "2      001                  Intro to CinemaRestriction: Major       3   \n",
              "3      002                                    Intro to Cinema       3   \n",
              "4      001   Cinematic Narrative ProductionRestriction: Major       3   \n",
              "..     ...                                                ...     ...   \n",
              "93    None                                               None    None   \n",
              "94     001                      Financial Statements Analysis       1   \n",
              "95    None                                               None    None   \n",
              "96     001  Analysis & Decision-MakingRestriction: Departm...       2   \n",
              "97     001  Accounting InternshipRestriction: Instructor A...     1-3   \n",
              "\n",
              "       Instructor Curr.Enrolled Seatsavail Curr.Waitlisted Waitavail.  Days  \\\n",
              "0     J F Parente            17          0              12         13     W   \n",
              "1     L Margulies            16          0               4         21     M   \n",
              "2      A H Ladner            25         18               0         30     W   \n",
              "3      A H Ladner            37          0              12         38     W   \n",
              "4    S E Schimmel            18          0              16         14     T   \n",
              "..            ...           ...        ...             ...        ...   ...   \n",
              "93           None          None       None            None       None  None   \n",
              "94  M J Mitsuyasu            12         13               0         10     M   \n",
              "95           None          None       None            None       None  None   \n",
              "96   H Pourjalali            12         13               0         10     M   \n",
              "97     R W Varley             2         23               0         10   TBA   \n",
              "\n",
              "          Time        Room        Dates                        Department  \n",
              "0   0130-0420p      CR 220  01/09-05/12  Academy for Creative Media (ACM)  \n",
              "1   0130-0420p      CR 212  01/09-05/12  Academy for Creative Media (ACM)  \n",
              "2   0930-1220p      CR 105  01/09-05/12  Academy for Creative Media (ACM)  \n",
              "3   0930-1220p      CR 105  01/09-05/12  Academy for Creative Media (ACM)  \n",
              "4   0430-0720p  SAKAM B104  01/09-05/12  Academy for Creative Media (ACM)  \n",
              "..         ...         ...          ...                               ...  \n",
              "93        None        None         None                              None  \n",
              "94  0746-0845p  BUSAD E202  01/09-05/12                  Accounting (ACC)  \n",
              "95        None        None         None                              None  \n",
              "96  0600-0745p  BUSAD E202  01/09-05/12                  Accounting (ACC)  \n",
              "97         TBA     TBA TBA  01/09-05/12                  Accounting (ACC)  \n",
              "\n",
              "[98 rows x 16 columns]"
            ],
            "text/html": [
              "\n",
              "  <div id=\"df-9d46c12a-1df4-40f5-a175-58d4c13d74dc\">\n",
              "    <div class=\"colab-df-container\">\n",
              "      <div>\n",
              "<style scoped>\n",
              "    .dataframe tbody tr th:only-of-type {\n",
              "        vertical-align: middle;\n",
              "    }\n",
              "\n",
              "    .dataframe tbody tr th {\n",
              "        vertical-align: top;\n",
              "    }\n",
              "\n",
              "    .dataframe thead th {\n",
              "        text-align: right;\n",
              "    }\n",
              "</style>\n",
              "<table border=\"1\" class=\"dataframe\">\n",
              "  <thead>\n",
              "    <tr style=\"text-align: right;\">\n",
              "      <th></th>\n",
              "      <th>GenEd/Focus/Special Des.</th>\n",
              "      <th>CRN</th>\n",
              "      <th>course</th>\n",
              "      <th>Section</th>\n",
              "      <th>Title</th>\n",
              "      <th>Credits</th>\n",
              "      <th>Instructor</th>\n",
              "      <th>Curr.Enrolled</th>\n",
              "      <th>Seatsavail</th>\n",
              "      <th>Curr.Waitlisted</th>\n",
              "      <th>Waitavail.</th>\n",
              "      <th>Days</th>\n",
              "      <th>Time</th>\n",
              "      <th>Room</th>\n",
              "      <th>Dates</th>\n",
              "      <th>Department</th>\n",
              "    </tr>\n",
              "  </thead>\n",
              "  <tbody>\n",
              "    <tr>\n",
              "      <th>0</th>\n",
              "      <td>DA,NI</td>\n",
              "      <td>87317</td>\n",
              "      <td>ACM 215</td>\n",
              "      <td>001</td>\n",
              "      <td>Intro to 3D Computer AnimationRestriction: Dep...</td>\n",
              "      <td>3</td>\n",
              "      <td>J F Parente</td>\n",
              "      <td>17</td>\n",
              "      <td>0</td>\n",
              "      <td>12</td>\n",
              "      <td>13</td>\n",
              "      <td>W</td>\n",
              "      <td>0130-0420p</td>\n",
              "      <td>CR 220</td>\n",
              "      <td>01/09-05/12</td>\n",
              "      <td>Academy for Creative Media (ACM)</td>\n",
              "    </tr>\n",
              "    <tr>\n",
              "      <th>1</th>\n",
              "      <td>DA,NI</td>\n",
              "      <td>87320</td>\n",
              "      <td>ACM 216</td>\n",
              "      <td>001</td>\n",
              "      <td>Fundamentals of AnimationRestriction: Departme...</td>\n",
              "      <td>3</td>\n",
              "      <td>L Margulies</td>\n",
              "      <td>16</td>\n",
              "      <td>0</td>\n",
              "      <td>4</td>\n",
              "      <td>21</td>\n",
              "      <td>M</td>\n",
              "      <td>0130-0420p</td>\n",
              "      <td>CR 212</td>\n",
              "      <td>01/09-05/12</td>\n",
              "      <td>Academy for Creative Media (ACM)</td>\n",
              "    </tr>\n",
              "    <tr>\n",
              "      <th>2</th>\n",
              "      <td>DH</td>\n",
              "      <td>81671</td>\n",
              "      <td>ACM 255</td>\n",
              "      <td>001</td>\n",
              "      <td>Intro to CinemaRestriction: Major</td>\n",
              "      <td>3</td>\n",
              "      <td>A H Ladner</td>\n",
              "      <td>25</td>\n",
              "      <td>18</td>\n",
              "      <td>0</td>\n",
              "      <td>30</td>\n",
              "      <td>W</td>\n",
              "      <td>0930-1220p</td>\n",
              "      <td>CR 105</td>\n",
              "      <td>01/09-05/12</td>\n",
              "      <td>Academy for Creative Media (ACM)</td>\n",
              "    </tr>\n",
              "    <tr>\n",
              "      <th>3</th>\n",
              "      <td>DH</td>\n",
              "      <td>88547</td>\n",
              "      <td>ACM 255</td>\n",
              "      <td>002</td>\n",
              "      <td>Intro to Cinema</td>\n",
              "      <td>3</td>\n",
              "      <td>A H Ladner</td>\n",
              "      <td>37</td>\n",
              "      <td>0</td>\n",
              "      <td>12</td>\n",
              "      <td>38</td>\n",
              "      <td>W</td>\n",
              "      <td>0930-1220p</td>\n",
              "      <td>CR 105</td>\n",
              "      <td>01/09-05/12</td>\n",
              "      <td>Academy for Creative Media (ACM)</td>\n",
              "    </tr>\n",
              "    <tr>\n",
              "      <th>4</th>\n",
              "      <td>DA</td>\n",
              "      <td>87322</td>\n",
              "      <td>ACM 310</td>\n",
              "      <td>001</td>\n",
              "      <td>Cinematic Narrative ProductionRestriction: Major</td>\n",
              "      <td>3</td>\n",
              "      <td>S E Schimmel</td>\n",
              "      <td>18</td>\n",
              "      <td>0</td>\n",
              "      <td>16</td>\n",
              "      <td>14</td>\n",
              "      <td>T</td>\n",
              "      <td>0430-0720p</td>\n",
              "      <td>SAKAM B104</td>\n",
              "      <td>01/09-05/12</td>\n",
              "      <td>Academy for Creative Media (ACM)</td>\n",
              "    </tr>\n",
              "    <tr>\n",
              "      <th>...</th>\n",
              "      <td>...</td>\n",
              "      <td>...</td>\n",
              "      <td>...</td>\n",
              "      <td>...</td>\n",
              "      <td>...</td>\n",
              "      <td>...</td>\n",
              "      <td>...</td>\n",
              "      <td>...</td>\n",
              "      <td>...</td>\n",
              "      <td>...</td>\n",
              "      <td>...</td>\n",
              "      <td>...</td>\n",
              "      <td>...</td>\n",
              "      <td>...</td>\n",
              "      <td>...</td>\n",
              "      <td>...</td>\n",
              "    </tr>\n",
              "    <tr>\n",
              "      <th>93</th>\n",
              "      <td></td>\n",
              "      <td>ACC 648 001 Must be taken concurrently with AC...</td>\n",
              "      <td>Accounting (ACC)</td>\n",
              "      <td>None</td>\n",
              "      <td>None</td>\n",
              "      <td>None</td>\n",
              "      <td>None</td>\n",
              "      <td>None</td>\n",
              "      <td>None</td>\n",
              "      <td>None</td>\n",
              "      <td>None</td>\n",
              "      <td>None</td>\n",
              "      <td>None</td>\n",
              "      <td>None</td>\n",
              "      <td>None</td>\n",
              "      <td>None</td>\n",
              "    </tr>\n",
              "    <tr>\n",
              "      <th>94</th>\n",
              "      <td></td>\n",
              "      <td>85793</td>\n",
              "      <td>ACC 648</td>\n",
              "      <td>001</td>\n",
              "      <td>Financial Statements Analysis</td>\n",
              "      <td>1</td>\n",
              "      <td>M J Mitsuyasu</td>\n",
              "      <td>12</td>\n",
              "      <td>13</td>\n",
              "      <td>0</td>\n",
              "      <td>10</td>\n",
              "      <td>M</td>\n",
              "      <td>0746-0845p</td>\n",
              "      <td>BUSAD E202</td>\n",
              "      <td>01/09-05/12</td>\n",
              "      <td>Accounting (ACC)</td>\n",
              "    </tr>\n",
              "    <tr>\n",
              "      <th>95</th>\n",
              "      <td></td>\n",
              "      <td>ACC 660 001 Must be taken concurrently with AC...</td>\n",
              "      <td>Accounting (ACC)</td>\n",
              "      <td>None</td>\n",
              "      <td>None</td>\n",
              "      <td>None</td>\n",
              "      <td>None</td>\n",
              "      <td>None</td>\n",
              "      <td>None</td>\n",
              "      <td>None</td>\n",
              "      <td>None</td>\n",
              "      <td>None</td>\n",
              "      <td>None</td>\n",
              "      <td>None</td>\n",
              "      <td>None</td>\n",
              "      <td>None</td>\n",
              "    </tr>\n",
              "    <tr>\n",
              "      <th>96</th>\n",
              "      <td></td>\n",
              "      <td>80008</td>\n",
              "      <td>ACC 660</td>\n",
              "      <td>001</td>\n",
              "      <td>Analysis &amp; Decision-MakingRestriction: Departm...</td>\n",
              "      <td>2</td>\n",
              "      <td>H Pourjalali</td>\n",
              "      <td>12</td>\n",
              "      <td>13</td>\n",
              "      <td>0</td>\n",
              "      <td>10</td>\n",
              "      <td>M</td>\n",
              "      <td>0600-0745p</td>\n",
              "      <td>BUSAD E202</td>\n",
              "      <td>01/09-05/12</td>\n",
              "      <td>Accounting (ACC)</td>\n",
              "    </tr>\n",
              "    <tr>\n",
              "      <th>97</th>\n",
              "      <td></td>\n",
              "      <td>83528</td>\n",
              "      <td>ACC 695</td>\n",
              "      <td>001</td>\n",
              "      <td>Accounting InternshipRestriction: Instructor A...</td>\n",
              "      <td>1-3</td>\n",
              "      <td>R W Varley</td>\n",
              "      <td>2</td>\n",
              "      <td>23</td>\n",
              "      <td>0</td>\n",
              "      <td>10</td>\n",
              "      <td>TBA</td>\n",
              "      <td>TBA</td>\n",
              "      <td>TBA TBA</td>\n",
              "      <td>01/09-05/12</td>\n",
              "      <td>Accounting (ACC)</td>\n",
              "    </tr>\n",
              "  </tbody>\n",
              "</table>\n",
              "<p>98 rows × 16 columns</p>\n",
              "</div>\n",
              "      <button class=\"colab-df-convert\" onclick=\"convertToInteractive('df-9d46c12a-1df4-40f5-a175-58d4c13d74dc')\"\n",
              "              title=\"Convert this dataframe to an interactive table.\"\n",
              "              style=\"display:none;\">\n",
              "        \n",
              "  <svg xmlns=\"http://www.w3.org/2000/svg\" height=\"24px\"viewBox=\"0 0 24 24\"\n",
              "       width=\"24px\">\n",
              "    <path d=\"M0 0h24v24H0V0z\" fill=\"none\"/>\n",
              "    <path d=\"M18.56 5.44l.94 2.06.94-2.06 2.06-.94-2.06-.94-.94-2.06-.94 2.06-2.06.94zm-11 1L8.5 8.5l.94-2.06 2.06-.94-2.06-.94L8.5 2.5l-.94 2.06-2.06.94zm10 10l.94 2.06.94-2.06 2.06-.94-2.06-.94-.94-2.06-.94 2.06-2.06.94z\"/><path d=\"M17.41 7.96l-1.37-1.37c-.4-.4-.92-.59-1.43-.59-.52 0-1.04.2-1.43.59L10.3 9.45l-7.72 7.72c-.78.78-.78 2.05 0 2.83L4 21.41c.39.39.9.59 1.41.59.51 0 1.02-.2 1.41-.59l7.78-7.78 2.81-2.81c.8-.78.8-2.07 0-2.86zM5.41 20L4 18.59l7.72-7.72 1.47 1.35L5.41 20z\"/>\n",
              "  </svg>\n",
              "      </button>\n",
              "      \n",
              "  <style>\n",
              "    .colab-df-container {\n",
              "      display:flex;\n",
              "      flex-wrap:wrap;\n",
              "      gap: 12px;\n",
              "    }\n",
              "\n",
              "    .colab-df-convert {\n",
              "      background-color: #E8F0FE;\n",
              "      border: none;\n",
              "      border-radius: 50%;\n",
              "      cursor: pointer;\n",
              "      display: none;\n",
              "      fill: #1967D2;\n",
              "      height: 32px;\n",
              "      padding: 0 0 0 0;\n",
              "      width: 32px;\n",
              "    }\n",
              "\n",
              "    .colab-df-convert:hover {\n",
              "      background-color: #E2EBFA;\n",
              "      box-shadow: 0px 1px 2px rgba(60, 64, 67, 0.3), 0px 1px 3px 1px rgba(60, 64, 67, 0.15);\n",
              "      fill: #174EA6;\n",
              "    }\n",
              "\n",
              "    [theme=dark] .colab-df-convert {\n",
              "      background-color: #3B4455;\n",
              "      fill: #D2E3FC;\n",
              "    }\n",
              "\n",
              "    [theme=dark] .colab-df-convert:hover {\n",
              "      background-color: #434B5C;\n",
              "      box-shadow: 0px 1px 3px 1px rgba(0, 0, 0, 0.15);\n",
              "      filter: drop-shadow(0px 1px 2px rgba(0, 0, 0, 0.3));\n",
              "      fill: #FFFFFF;\n",
              "    }\n",
              "  </style>\n",
              "\n",
              "      <script>\n",
              "        const buttonEl =\n",
              "          document.querySelector('#df-9d46c12a-1df4-40f5-a175-58d4c13d74dc button.colab-df-convert');\n",
              "        buttonEl.style.display =\n",
              "          google.colab.kernel.accessAllowed ? 'block' : 'none';\n",
              "\n",
              "        async function convertToInteractive(key) {\n",
              "          const element = document.querySelector('#df-9d46c12a-1df4-40f5-a175-58d4c13d74dc');\n",
              "          const dataTable =\n",
              "            await google.colab.kernel.invokeFunction('convertToInteractive',\n",
              "                                                     [key], {});\n",
              "          if (!dataTable) return;\n",
              "\n",
              "          const docLinkHtml = 'Like what you see? Visit the ' +\n",
              "            '<a target=\"_blank\" href=https://colab.research.google.com/notebooks/data_table.ipynb>data table notebook</a>'\n",
              "            + ' to learn more about interactive tables.';\n",
              "          element.innerHTML = '';\n",
              "          dataTable['output_type'] = 'display_data';\n",
              "          await google.colab.output.renderOutput(dataTable, element);\n",
              "          const docLink = document.createElement('div');\n",
              "          docLink.innerHTML = docLinkHtml;\n",
              "          element.appendChild(docLink);\n",
              "        }\n",
              "      </script>\n",
              "    </div>\n",
              "  </div>\n",
              "  "
            ]
          },
          "metadata": {},
          "execution_count": 165
        }
      ]
    },
    {
      "cell_type": "code",
      "source": [
        "#merge dataframes\n",
        "\n",
        "inner_join = pd.merge(df_reg,df_desc, on='course', how='inner')\n",
        "inner_join"
      ],
      "metadata": {
        "colab": {
          "base_uri": "https://localhost:8080/",
          "height": 850
        },
        "id": "d6ZqTXMgchwl",
        "outputId": "b24997e5-a2c0-44ba-adff-5ee4f94dc55a"
      },
      "execution_count": 166,
      "outputs": [
        {
          "output_type": "execute_result",
          "data": {
            "text/plain": [
              "   GenEd/Focus/Special Des.    CRN   course Section  \\\n",
              "0                     DA,NI  87317  ACM 215     001   \n",
              "1                     DA,NI  87320  ACM 216     001   \n",
              "2                        DH  81671  ACM 255     001   \n",
              "3                        DH  88547  ACM 255     002   \n",
              "4                        DA  87322  ACM 310     001   \n",
              "..                      ...    ...      ...     ...   \n",
              "65                           85311  ACC 619     001   \n",
              "66                           83526  ACC 625     001   \n",
              "67                           85793  ACC 648     001   \n",
              "68                           80008  ACC 660     001   \n",
              "69                           83528  ACC 695     001   \n",
              "\n",
              "                                                Title Credits     Instructor  \\\n",
              "0   Intro to 3D Computer AnimationRestriction: Dep...       3    J F Parente   \n",
              "1   Fundamentals of AnimationRestriction: Departme...       3    L Margulies   \n",
              "2                   Intro to CinemaRestriction: Major       3     A H Ladner   \n",
              "3                                     Intro to Cinema       3     A H Ladner   \n",
              "4    Cinematic Narrative ProductionRestriction: Major       3   S E Schimmel   \n",
              "..                                                ...     ...            ...   \n",
              "65       Info Assurance & AnalyticsRestriction: Major       3          J Lim   \n",
              "66        Accounting & Tax ResearchRestriction: Major       3    T C Pearson   \n",
              "67                      Financial Statements Analysis       1  M J Mitsuyasu   \n",
              "68  Analysis & Decision-MakingRestriction: Departm...       2   H Pourjalali   \n",
              "69  Accounting InternshipRestriction: Instructor A...     1-3     R W Varley   \n",
              "\n",
              "   Curr.Enrolled Seatsavail Curr.Waitlisted Waitavail. Days        Time  \\\n",
              "0             17          0              12         13    W  0130-0420p   \n",
              "1             16          0               4         21    M  0130-0420p   \n",
              "2             25         18               0         30    W  0930-1220p   \n",
              "3             37          0              12         38    W  0930-1220p   \n",
              "4             18          0              16         14    T  0430-0720p   \n",
              "..           ...        ...             ...        ...  ...         ...   \n",
              "65            11         29               0         10    T  0600-0845p   \n",
              "66            13         12               0         10    W  0600-0845p   \n",
              "67            12         13               0         10    M  0746-0845p   \n",
              "68            12         13               0         10    M  0600-0745p   \n",
              "69             2         23               0         10  TBA         TBA   \n",
              "\n",
              "          Room        Dates                        Department  \\\n",
              "0       CR 220  01/09-05/12  Academy for Creative Media (ACM)   \n",
              "1       CR 212  01/09-05/12  Academy for Creative Media (ACM)   \n",
              "2       CR 105  01/09-05/12  Academy for Creative Media (ACM)   \n",
              "3       CR 105  01/09-05/12  Academy for Creative Media (ACM)   \n",
              "4   SAKAM B104  01/09-05/12  Academy for Creative Media (ACM)   \n",
              "..         ...          ...                               ...   \n",
              "65  BUSAD D101  01/09-05/12                  Accounting (ACC)   \n",
              "66  BUSAD E201  01/09-05/12                  Accounting (ACC)   \n",
              "67  BUSAD E202  01/09-05/12                  Accounting (ACC)   \n",
              "68  BUSAD E202  01/09-05/12                  Accounting (ACC)   \n",
              "69     TBA TBA  01/09-05/12                  Accounting (ACC)   \n",
              "\n",
              "                                  course_name  \\\n",
              "0      Introduction to 3D Computer Animation    \n",
              "1                  Fundamentals of Animation    \n",
              "2   Introduction to Cinema and Digital Media    \n",
              "3   Introduction to Cinema and Digital Media    \n",
              "4             Cinematic Narrative Production    \n",
              "..                                        ...   \n",
              "65   Information and Assurance and Analytics    \n",
              "66               Accounting and Tax Research    \n",
              "67             Financial Statements Analysis    \n",
              "68              Analysis and Decision-Making    \n",
              "69                     Accounting Internship    \n",
              "\n",
              "                                          description  \n",
              "0   A basic overview of the 3D animation productio...  \n",
              "1   Introduction to traditional styles and methods...  \n",
              "2   Introduction to the study of cinema: history, ...  \n",
              "3   Introduction to the study of cinema: history, ...  \n",
              "4   Production-intensive course with collaborative...  \n",
              "..                                                ...  \n",
              "65  Focus on auditing processes, standards, and gu...  \n",
              "66  In depth examination of tax and accounting res...  \n",
              "67  Analyses of a firm’s profitability, liquidity,...  \n",
              "68  Integrates learning through analysis and commu...  \n",
              "69  On-the-job experience in the accounting commun...  \n",
              "\n",
              "[70 rows x 18 columns]"
            ],
            "text/html": [
              "\n",
              "  <div id=\"df-bcb783b3-9f8f-44b4-bbcf-ebf7df3d0ff9\">\n",
              "    <div class=\"colab-df-container\">\n",
              "      <div>\n",
              "<style scoped>\n",
              "    .dataframe tbody tr th:only-of-type {\n",
              "        vertical-align: middle;\n",
              "    }\n",
              "\n",
              "    .dataframe tbody tr th {\n",
              "        vertical-align: top;\n",
              "    }\n",
              "\n",
              "    .dataframe thead th {\n",
              "        text-align: right;\n",
              "    }\n",
              "</style>\n",
              "<table border=\"1\" class=\"dataframe\">\n",
              "  <thead>\n",
              "    <tr style=\"text-align: right;\">\n",
              "      <th></th>\n",
              "      <th>GenEd/Focus/Special Des.</th>\n",
              "      <th>CRN</th>\n",
              "      <th>course</th>\n",
              "      <th>Section</th>\n",
              "      <th>Title</th>\n",
              "      <th>Credits</th>\n",
              "      <th>Instructor</th>\n",
              "      <th>Curr.Enrolled</th>\n",
              "      <th>Seatsavail</th>\n",
              "      <th>Curr.Waitlisted</th>\n",
              "      <th>Waitavail.</th>\n",
              "      <th>Days</th>\n",
              "      <th>Time</th>\n",
              "      <th>Room</th>\n",
              "      <th>Dates</th>\n",
              "      <th>Department</th>\n",
              "      <th>course_name</th>\n",
              "      <th>description</th>\n",
              "    </tr>\n",
              "  </thead>\n",
              "  <tbody>\n",
              "    <tr>\n",
              "      <th>0</th>\n",
              "      <td>DA,NI</td>\n",
              "      <td>87317</td>\n",
              "      <td>ACM 215</td>\n",
              "      <td>001</td>\n",
              "      <td>Intro to 3D Computer AnimationRestriction: Dep...</td>\n",
              "      <td>3</td>\n",
              "      <td>J F Parente</td>\n",
              "      <td>17</td>\n",
              "      <td>0</td>\n",
              "      <td>12</td>\n",
              "      <td>13</td>\n",
              "      <td>W</td>\n",
              "      <td>0130-0420p</td>\n",
              "      <td>CR 220</td>\n",
              "      <td>01/09-05/12</td>\n",
              "      <td>Academy for Creative Media (ACM)</td>\n",
              "      <td>Introduction to 3D Computer Animation</td>\n",
              "      <td>A basic overview of the 3D animation productio...</td>\n",
              "    </tr>\n",
              "    <tr>\n",
              "      <th>1</th>\n",
              "      <td>DA,NI</td>\n",
              "      <td>87320</td>\n",
              "      <td>ACM 216</td>\n",
              "      <td>001</td>\n",
              "      <td>Fundamentals of AnimationRestriction: Departme...</td>\n",
              "      <td>3</td>\n",
              "      <td>L Margulies</td>\n",
              "      <td>16</td>\n",
              "      <td>0</td>\n",
              "      <td>4</td>\n",
              "      <td>21</td>\n",
              "      <td>M</td>\n",
              "      <td>0130-0420p</td>\n",
              "      <td>CR 212</td>\n",
              "      <td>01/09-05/12</td>\n",
              "      <td>Academy for Creative Media (ACM)</td>\n",
              "      <td>Fundamentals of Animation</td>\n",
              "      <td>Introduction to traditional styles and methods...</td>\n",
              "    </tr>\n",
              "    <tr>\n",
              "      <th>2</th>\n",
              "      <td>DH</td>\n",
              "      <td>81671</td>\n",
              "      <td>ACM 255</td>\n",
              "      <td>001</td>\n",
              "      <td>Intro to CinemaRestriction: Major</td>\n",
              "      <td>3</td>\n",
              "      <td>A H Ladner</td>\n",
              "      <td>25</td>\n",
              "      <td>18</td>\n",
              "      <td>0</td>\n",
              "      <td>30</td>\n",
              "      <td>W</td>\n",
              "      <td>0930-1220p</td>\n",
              "      <td>CR 105</td>\n",
              "      <td>01/09-05/12</td>\n",
              "      <td>Academy for Creative Media (ACM)</td>\n",
              "      <td>Introduction to Cinema and Digital Media</td>\n",
              "      <td>Introduction to the study of cinema: history, ...</td>\n",
              "    </tr>\n",
              "    <tr>\n",
              "      <th>3</th>\n",
              "      <td>DH</td>\n",
              "      <td>88547</td>\n",
              "      <td>ACM 255</td>\n",
              "      <td>002</td>\n",
              "      <td>Intro to Cinema</td>\n",
              "      <td>3</td>\n",
              "      <td>A H Ladner</td>\n",
              "      <td>37</td>\n",
              "      <td>0</td>\n",
              "      <td>12</td>\n",
              "      <td>38</td>\n",
              "      <td>W</td>\n",
              "      <td>0930-1220p</td>\n",
              "      <td>CR 105</td>\n",
              "      <td>01/09-05/12</td>\n",
              "      <td>Academy for Creative Media (ACM)</td>\n",
              "      <td>Introduction to Cinema and Digital Media</td>\n",
              "      <td>Introduction to the study of cinema: history, ...</td>\n",
              "    </tr>\n",
              "    <tr>\n",
              "      <th>4</th>\n",
              "      <td>DA</td>\n",
              "      <td>87322</td>\n",
              "      <td>ACM 310</td>\n",
              "      <td>001</td>\n",
              "      <td>Cinematic Narrative ProductionRestriction: Major</td>\n",
              "      <td>3</td>\n",
              "      <td>S E Schimmel</td>\n",
              "      <td>18</td>\n",
              "      <td>0</td>\n",
              "      <td>16</td>\n",
              "      <td>14</td>\n",
              "      <td>T</td>\n",
              "      <td>0430-0720p</td>\n",
              "      <td>SAKAM B104</td>\n",
              "      <td>01/09-05/12</td>\n",
              "      <td>Academy for Creative Media (ACM)</td>\n",
              "      <td>Cinematic Narrative Production</td>\n",
              "      <td>Production-intensive course with collaborative...</td>\n",
              "    </tr>\n",
              "    <tr>\n",
              "      <th>...</th>\n",
              "      <td>...</td>\n",
              "      <td>...</td>\n",
              "      <td>...</td>\n",
              "      <td>...</td>\n",
              "      <td>...</td>\n",
              "      <td>...</td>\n",
              "      <td>...</td>\n",
              "      <td>...</td>\n",
              "      <td>...</td>\n",
              "      <td>...</td>\n",
              "      <td>...</td>\n",
              "      <td>...</td>\n",
              "      <td>...</td>\n",
              "      <td>...</td>\n",
              "      <td>...</td>\n",
              "      <td>...</td>\n",
              "      <td>...</td>\n",
              "      <td>...</td>\n",
              "    </tr>\n",
              "    <tr>\n",
              "      <th>65</th>\n",
              "      <td></td>\n",
              "      <td>85311</td>\n",
              "      <td>ACC 619</td>\n",
              "      <td>001</td>\n",
              "      <td>Info Assurance &amp; AnalyticsRestriction: Major</td>\n",
              "      <td>3</td>\n",
              "      <td>J Lim</td>\n",
              "      <td>11</td>\n",
              "      <td>29</td>\n",
              "      <td>0</td>\n",
              "      <td>10</td>\n",
              "      <td>T</td>\n",
              "      <td>0600-0845p</td>\n",
              "      <td>BUSAD D101</td>\n",
              "      <td>01/09-05/12</td>\n",
              "      <td>Accounting (ACC)</td>\n",
              "      <td>Information and Assurance and Analytics</td>\n",
              "      <td>Focus on auditing processes, standards, and gu...</td>\n",
              "    </tr>\n",
              "    <tr>\n",
              "      <th>66</th>\n",
              "      <td></td>\n",
              "      <td>83526</td>\n",
              "      <td>ACC 625</td>\n",
              "      <td>001</td>\n",
              "      <td>Accounting &amp; Tax ResearchRestriction: Major</td>\n",
              "      <td>3</td>\n",
              "      <td>T C Pearson</td>\n",
              "      <td>13</td>\n",
              "      <td>12</td>\n",
              "      <td>0</td>\n",
              "      <td>10</td>\n",
              "      <td>W</td>\n",
              "      <td>0600-0845p</td>\n",
              "      <td>BUSAD E201</td>\n",
              "      <td>01/09-05/12</td>\n",
              "      <td>Accounting (ACC)</td>\n",
              "      <td>Accounting and Tax Research</td>\n",
              "      <td>In depth examination of tax and accounting res...</td>\n",
              "    </tr>\n",
              "    <tr>\n",
              "      <th>67</th>\n",
              "      <td></td>\n",
              "      <td>85793</td>\n",
              "      <td>ACC 648</td>\n",
              "      <td>001</td>\n",
              "      <td>Financial Statements Analysis</td>\n",
              "      <td>1</td>\n",
              "      <td>M J Mitsuyasu</td>\n",
              "      <td>12</td>\n",
              "      <td>13</td>\n",
              "      <td>0</td>\n",
              "      <td>10</td>\n",
              "      <td>M</td>\n",
              "      <td>0746-0845p</td>\n",
              "      <td>BUSAD E202</td>\n",
              "      <td>01/09-05/12</td>\n",
              "      <td>Accounting (ACC)</td>\n",
              "      <td>Financial Statements Analysis</td>\n",
              "      <td>Analyses of a firm’s profitability, liquidity,...</td>\n",
              "    </tr>\n",
              "    <tr>\n",
              "      <th>68</th>\n",
              "      <td></td>\n",
              "      <td>80008</td>\n",
              "      <td>ACC 660</td>\n",
              "      <td>001</td>\n",
              "      <td>Analysis &amp; Decision-MakingRestriction: Departm...</td>\n",
              "      <td>2</td>\n",
              "      <td>H Pourjalali</td>\n",
              "      <td>12</td>\n",
              "      <td>13</td>\n",
              "      <td>0</td>\n",
              "      <td>10</td>\n",
              "      <td>M</td>\n",
              "      <td>0600-0745p</td>\n",
              "      <td>BUSAD E202</td>\n",
              "      <td>01/09-05/12</td>\n",
              "      <td>Accounting (ACC)</td>\n",
              "      <td>Analysis and Decision-Making</td>\n",
              "      <td>Integrates learning through analysis and commu...</td>\n",
              "    </tr>\n",
              "    <tr>\n",
              "      <th>69</th>\n",
              "      <td></td>\n",
              "      <td>83528</td>\n",
              "      <td>ACC 695</td>\n",
              "      <td>001</td>\n",
              "      <td>Accounting InternshipRestriction: Instructor A...</td>\n",
              "      <td>1-3</td>\n",
              "      <td>R W Varley</td>\n",
              "      <td>2</td>\n",
              "      <td>23</td>\n",
              "      <td>0</td>\n",
              "      <td>10</td>\n",
              "      <td>TBA</td>\n",
              "      <td>TBA</td>\n",
              "      <td>TBA TBA</td>\n",
              "      <td>01/09-05/12</td>\n",
              "      <td>Accounting (ACC)</td>\n",
              "      <td>Accounting Internship</td>\n",
              "      <td>On-the-job experience in the accounting commun...</td>\n",
              "    </tr>\n",
              "  </tbody>\n",
              "</table>\n",
              "<p>70 rows × 18 columns</p>\n",
              "</div>\n",
              "      <button class=\"colab-df-convert\" onclick=\"convertToInteractive('df-bcb783b3-9f8f-44b4-bbcf-ebf7df3d0ff9')\"\n",
              "              title=\"Convert this dataframe to an interactive table.\"\n",
              "              style=\"display:none;\">\n",
              "        \n",
              "  <svg xmlns=\"http://www.w3.org/2000/svg\" height=\"24px\"viewBox=\"0 0 24 24\"\n",
              "       width=\"24px\">\n",
              "    <path d=\"M0 0h24v24H0V0z\" fill=\"none\"/>\n",
              "    <path d=\"M18.56 5.44l.94 2.06.94-2.06 2.06-.94-2.06-.94-.94-2.06-.94 2.06-2.06.94zm-11 1L8.5 8.5l.94-2.06 2.06-.94-2.06-.94L8.5 2.5l-.94 2.06-2.06.94zm10 10l.94 2.06.94-2.06 2.06-.94-2.06-.94-.94-2.06-.94 2.06-2.06.94z\"/><path d=\"M17.41 7.96l-1.37-1.37c-.4-.4-.92-.59-1.43-.59-.52 0-1.04.2-1.43.59L10.3 9.45l-7.72 7.72c-.78.78-.78 2.05 0 2.83L4 21.41c.39.39.9.59 1.41.59.51 0 1.02-.2 1.41-.59l7.78-7.78 2.81-2.81c.8-.78.8-2.07 0-2.86zM5.41 20L4 18.59l7.72-7.72 1.47 1.35L5.41 20z\"/>\n",
              "  </svg>\n",
              "      </button>\n",
              "      \n",
              "  <style>\n",
              "    .colab-df-container {\n",
              "      display:flex;\n",
              "      flex-wrap:wrap;\n",
              "      gap: 12px;\n",
              "    }\n",
              "\n",
              "    .colab-df-convert {\n",
              "      background-color: #E8F0FE;\n",
              "      border: none;\n",
              "      border-radius: 50%;\n",
              "      cursor: pointer;\n",
              "      display: none;\n",
              "      fill: #1967D2;\n",
              "      height: 32px;\n",
              "      padding: 0 0 0 0;\n",
              "      width: 32px;\n",
              "    }\n",
              "\n",
              "    .colab-df-convert:hover {\n",
              "      background-color: #E2EBFA;\n",
              "      box-shadow: 0px 1px 2px rgba(60, 64, 67, 0.3), 0px 1px 3px 1px rgba(60, 64, 67, 0.15);\n",
              "      fill: #174EA6;\n",
              "    }\n",
              "\n",
              "    [theme=dark] .colab-df-convert {\n",
              "      background-color: #3B4455;\n",
              "      fill: #D2E3FC;\n",
              "    }\n",
              "\n",
              "    [theme=dark] .colab-df-convert:hover {\n",
              "      background-color: #434B5C;\n",
              "      box-shadow: 0px 1px 3px 1px rgba(0, 0, 0, 0.15);\n",
              "      filter: drop-shadow(0px 1px 2px rgba(0, 0, 0, 0.3));\n",
              "      fill: #FFFFFF;\n",
              "    }\n",
              "  </style>\n",
              "\n",
              "      <script>\n",
              "        const buttonEl =\n",
              "          document.querySelector('#df-bcb783b3-9f8f-44b4-bbcf-ebf7df3d0ff9 button.colab-df-convert');\n",
              "        buttonEl.style.display =\n",
              "          google.colab.kernel.accessAllowed ? 'block' : 'none';\n",
              "\n",
              "        async function convertToInteractive(key) {\n",
              "          const element = document.querySelector('#df-bcb783b3-9f8f-44b4-bbcf-ebf7df3d0ff9');\n",
              "          const dataTable =\n",
              "            await google.colab.kernel.invokeFunction('convertToInteractive',\n",
              "                                                     [key], {});\n",
              "          if (!dataTable) return;\n",
              "\n",
              "          const docLinkHtml = 'Like what you see? Visit the ' +\n",
              "            '<a target=\"_blank\" href=https://colab.research.google.com/notebooks/data_table.ipynb>data table notebook</a>'\n",
              "            + ' to learn more about interactive tables.';\n",
              "          element.innerHTML = '';\n",
              "          dataTable['output_type'] = 'display_data';\n",
              "          await google.colab.output.renderOutput(dataTable, element);\n",
              "          const docLink = document.createElement('div');\n",
              "          docLink.innerHTML = docLinkHtml;\n",
              "          element.appendChild(docLink);\n",
              "        }\n",
              "      </script>\n",
              "    </div>\n",
              "  </div>\n",
              "  "
            ]
          },
          "metadata": {},
          "execution_count": 166
        }
      ]
    },
    {
      "cell_type": "code",
      "source": [
        "inner_join.info(memory_usage=\"deep\")"
      ],
      "metadata": {
        "colab": {
          "base_uri": "https://localhost:8080/"
        },
        "id": "GqbGikhOdQN_",
        "outputId": "66cc858c-84b7-4483-b83a-daaba8f78f99"
      },
      "execution_count": 167,
      "outputs": [
        {
          "output_type": "stream",
          "name": "stdout",
          "text": [
            "<class 'pandas.core.frame.DataFrame'>\n",
            "Int64Index: 70 entries, 0 to 69\n",
            "Data columns (total 18 columns):\n",
            " #   Column                    Non-Null Count  Dtype \n",
            "---  ------                    --------------  ----- \n",
            " 0   GenEd/Focus/Special Des.  70 non-null     object\n",
            " 1   CRN                       70 non-null     object\n",
            " 2   course                    70 non-null     object\n",
            " 3   Section                   70 non-null     object\n",
            " 4   Title                     70 non-null     object\n",
            " 5   Credits                   70 non-null     object\n",
            " 6   Instructor                70 non-null     object\n",
            " 7   Curr.Enrolled             70 non-null     object\n",
            " 8   Seatsavail                70 non-null     object\n",
            " 9   Curr.Waitlisted           70 non-null     object\n",
            " 10  Waitavail.                70 non-null     object\n",
            " 11  Days                      70 non-null     object\n",
            " 12  Time                      70 non-null     object\n",
            " 13  Room                      70 non-null     object\n",
            " 14  Dates                     70 non-null     object\n",
            " 15  Department                70 non-null     object\n",
            " 16  course_name               70 non-null     object\n",
            " 17  description               70 non-null     object\n",
            "dtypes: object(18)\n",
            "memory usage: 99.1 KB\n"
          ]
        }
      ]
    },
    {
      "cell_type": "code",
      "source": [
        "data = inner_join[['course','Credits','Instructor','Department','course_name','description']].copy()\n",
        "data"
      ],
      "metadata": {
        "id": "D8Ex4lLRdtvl",
        "colab": {
          "base_uri": "https://localhost:8080/",
          "height": 424
        },
        "outputId": "9f8b325d-3718-4f51-f6df-77185992e8da"
      },
      "execution_count": 168,
      "outputs": [
        {
          "output_type": "execute_result",
          "data": {
            "text/plain": [
              "     course Credits     Instructor                        Department  \\\n",
              "0   ACM 215       3    J F Parente  Academy for Creative Media (ACM)   \n",
              "1   ACM 216       3    L Margulies  Academy for Creative Media (ACM)   \n",
              "2   ACM 255       3     A H Ladner  Academy for Creative Media (ACM)   \n",
              "3   ACM 255       3     A H Ladner  Academy for Creative Media (ACM)   \n",
              "4   ACM 310       3   S E Schimmel  Academy for Creative Media (ACM)   \n",
              "..      ...     ...            ...                               ...   \n",
              "65  ACC 619       3          J Lim                  Accounting (ACC)   \n",
              "66  ACC 625       3    T C Pearson                  Accounting (ACC)   \n",
              "67  ACC 648       1  M J Mitsuyasu                  Accounting (ACC)   \n",
              "68  ACC 660       2   H Pourjalali                  Accounting (ACC)   \n",
              "69  ACC 695     1-3     R W Varley                  Accounting (ACC)   \n",
              "\n",
              "                                  course_name  \\\n",
              "0      Introduction to 3D Computer Animation    \n",
              "1                  Fundamentals of Animation    \n",
              "2   Introduction to Cinema and Digital Media    \n",
              "3   Introduction to Cinema and Digital Media    \n",
              "4             Cinematic Narrative Production    \n",
              "..                                        ...   \n",
              "65   Information and Assurance and Analytics    \n",
              "66               Accounting and Tax Research    \n",
              "67             Financial Statements Analysis    \n",
              "68              Analysis and Decision-Making    \n",
              "69                     Accounting Internship    \n",
              "\n",
              "                                          description  \n",
              "0   A basic overview of the 3D animation productio...  \n",
              "1   Introduction to traditional styles and methods...  \n",
              "2   Introduction to the study of cinema: history, ...  \n",
              "3   Introduction to the study of cinema: history, ...  \n",
              "4   Production-intensive course with collaborative...  \n",
              "..                                                ...  \n",
              "65  Focus on auditing processes, standards, and gu...  \n",
              "66  In depth examination of tax and accounting res...  \n",
              "67  Analyses of a firm’s profitability, liquidity,...  \n",
              "68  Integrates learning through analysis and commu...  \n",
              "69  On-the-job experience in the accounting commun...  \n",
              "\n",
              "[70 rows x 6 columns]"
            ],
            "text/html": [
              "\n",
              "  <div id=\"df-5fe9828d-d3d9-4c69-bb1b-5d12fd2bc234\">\n",
              "    <div class=\"colab-df-container\">\n",
              "      <div>\n",
              "<style scoped>\n",
              "    .dataframe tbody tr th:only-of-type {\n",
              "        vertical-align: middle;\n",
              "    }\n",
              "\n",
              "    .dataframe tbody tr th {\n",
              "        vertical-align: top;\n",
              "    }\n",
              "\n",
              "    .dataframe thead th {\n",
              "        text-align: right;\n",
              "    }\n",
              "</style>\n",
              "<table border=\"1\" class=\"dataframe\">\n",
              "  <thead>\n",
              "    <tr style=\"text-align: right;\">\n",
              "      <th></th>\n",
              "      <th>course</th>\n",
              "      <th>Credits</th>\n",
              "      <th>Instructor</th>\n",
              "      <th>Department</th>\n",
              "      <th>course_name</th>\n",
              "      <th>description</th>\n",
              "    </tr>\n",
              "  </thead>\n",
              "  <tbody>\n",
              "    <tr>\n",
              "      <th>0</th>\n",
              "      <td>ACM 215</td>\n",
              "      <td>3</td>\n",
              "      <td>J F Parente</td>\n",
              "      <td>Academy for Creative Media (ACM)</td>\n",
              "      <td>Introduction to 3D Computer Animation</td>\n",
              "      <td>A basic overview of the 3D animation productio...</td>\n",
              "    </tr>\n",
              "    <tr>\n",
              "      <th>1</th>\n",
              "      <td>ACM 216</td>\n",
              "      <td>3</td>\n",
              "      <td>L Margulies</td>\n",
              "      <td>Academy for Creative Media (ACM)</td>\n",
              "      <td>Fundamentals of Animation</td>\n",
              "      <td>Introduction to traditional styles and methods...</td>\n",
              "    </tr>\n",
              "    <tr>\n",
              "      <th>2</th>\n",
              "      <td>ACM 255</td>\n",
              "      <td>3</td>\n",
              "      <td>A H Ladner</td>\n",
              "      <td>Academy for Creative Media (ACM)</td>\n",
              "      <td>Introduction to Cinema and Digital Media</td>\n",
              "      <td>Introduction to the study of cinema: history, ...</td>\n",
              "    </tr>\n",
              "    <tr>\n",
              "      <th>3</th>\n",
              "      <td>ACM 255</td>\n",
              "      <td>3</td>\n",
              "      <td>A H Ladner</td>\n",
              "      <td>Academy for Creative Media (ACM)</td>\n",
              "      <td>Introduction to Cinema and Digital Media</td>\n",
              "      <td>Introduction to the study of cinema: history, ...</td>\n",
              "    </tr>\n",
              "    <tr>\n",
              "      <th>4</th>\n",
              "      <td>ACM 310</td>\n",
              "      <td>3</td>\n",
              "      <td>S E Schimmel</td>\n",
              "      <td>Academy for Creative Media (ACM)</td>\n",
              "      <td>Cinematic Narrative Production</td>\n",
              "      <td>Production-intensive course with collaborative...</td>\n",
              "    </tr>\n",
              "    <tr>\n",
              "      <th>...</th>\n",
              "      <td>...</td>\n",
              "      <td>...</td>\n",
              "      <td>...</td>\n",
              "      <td>...</td>\n",
              "      <td>...</td>\n",
              "      <td>...</td>\n",
              "    </tr>\n",
              "    <tr>\n",
              "      <th>65</th>\n",
              "      <td>ACC 619</td>\n",
              "      <td>3</td>\n",
              "      <td>J Lim</td>\n",
              "      <td>Accounting (ACC)</td>\n",
              "      <td>Information and Assurance and Analytics</td>\n",
              "      <td>Focus on auditing processes, standards, and gu...</td>\n",
              "    </tr>\n",
              "    <tr>\n",
              "      <th>66</th>\n",
              "      <td>ACC 625</td>\n",
              "      <td>3</td>\n",
              "      <td>T C Pearson</td>\n",
              "      <td>Accounting (ACC)</td>\n",
              "      <td>Accounting and Tax Research</td>\n",
              "      <td>In depth examination of tax and accounting res...</td>\n",
              "    </tr>\n",
              "    <tr>\n",
              "      <th>67</th>\n",
              "      <td>ACC 648</td>\n",
              "      <td>1</td>\n",
              "      <td>M J Mitsuyasu</td>\n",
              "      <td>Accounting (ACC)</td>\n",
              "      <td>Financial Statements Analysis</td>\n",
              "      <td>Analyses of a firm’s profitability, liquidity,...</td>\n",
              "    </tr>\n",
              "    <tr>\n",
              "      <th>68</th>\n",
              "      <td>ACC 660</td>\n",
              "      <td>2</td>\n",
              "      <td>H Pourjalali</td>\n",
              "      <td>Accounting (ACC)</td>\n",
              "      <td>Analysis and Decision-Making</td>\n",
              "      <td>Integrates learning through analysis and commu...</td>\n",
              "    </tr>\n",
              "    <tr>\n",
              "      <th>69</th>\n",
              "      <td>ACC 695</td>\n",
              "      <td>1-3</td>\n",
              "      <td>R W Varley</td>\n",
              "      <td>Accounting (ACC)</td>\n",
              "      <td>Accounting Internship</td>\n",
              "      <td>On-the-job experience in the accounting commun...</td>\n",
              "    </tr>\n",
              "  </tbody>\n",
              "</table>\n",
              "<p>70 rows × 6 columns</p>\n",
              "</div>\n",
              "      <button class=\"colab-df-convert\" onclick=\"convertToInteractive('df-5fe9828d-d3d9-4c69-bb1b-5d12fd2bc234')\"\n",
              "              title=\"Convert this dataframe to an interactive table.\"\n",
              "              style=\"display:none;\">\n",
              "        \n",
              "  <svg xmlns=\"http://www.w3.org/2000/svg\" height=\"24px\"viewBox=\"0 0 24 24\"\n",
              "       width=\"24px\">\n",
              "    <path d=\"M0 0h24v24H0V0z\" fill=\"none\"/>\n",
              "    <path d=\"M18.56 5.44l.94 2.06.94-2.06 2.06-.94-2.06-.94-.94-2.06-.94 2.06-2.06.94zm-11 1L8.5 8.5l.94-2.06 2.06-.94-2.06-.94L8.5 2.5l-.94 2.06-2.06.94zm10 10l.94 2.06.94-2.06 2.06-.94-2.06-.94-.94-2.06-.94 2.06-2.06.94z\"/><path d=\"M17.41 7.96l-1.37-1.37c-.4-.4-.92-.59-1.43-.59-.52 0-1.04.2-1.43.59L10.3 9.45l-7.72 7.72c-.78.78-.78 2.05 0 2.83L4 21.41c.39.39.9.59 1.41.59.51 0 1.02-.2 1.41-.59l7.78-7.78 2.81-2.81c.8-.78.8-2.07 0-2.86zM5.41 20L4 18.59l7.72-7.72 1.47 1.35L5.41 20z\"/>\n",
              "  </svg>\n",
              "      </button>\n",
              "      \n",
              "  <style>\n",
              "    .colab-df-container {\n",
              "      display:flex;\n",
              "      flex-wrap:wrap;\n",
              "      gap: 12px;\n",
              "    }\n",
              "\n",
              "    .colab-df-convert {\n",
              "      background-color: #E8F0FE;\n",
              "      border: none;\n",
              "      border-radius: 50%;\n",
              "      cursor: pointer;\n",
              "      display: none;\n",
              "      fill: #1967D2;\n",
              "      height: 32px;\n",
              "      padding: 0 0 0 0;\n",
              "      width: 32px;\n",
              "    }\n",
              "\n",
              "    .colab-df-convert:hover {\n",
              "      background-color: #E2EBFA;\n",
              "      box-shadow: 0px 1px 2px rgba(60, 64, 67, 0.3), 0px 1px 3px 1px rgba(60, 64, 67, 0.15);\n",
              "      fill: #174EA6;\n",
              "    }\n",
              "\n",
              "    [theme=dark] .colab-df-convert {\n",
              "      background-color: #3B4455;\n",
              "      fill: #D2E3FC;\n",
              "    }\n",
              "\n",
              "    [theme=dark] .colab-df-convert:hover {\n",
              "      background-color: #434B5C;\n",
              "      box-shadow: 0px 1px 3px 1px rgba(0, 0, 0, 0.15);\n",
              "      filter: drop-shadow(0px 1px 2px rgba(0, 0, 0, 0.3));\n",
              "      fill: #FFFFFF;\n",
              "    }\n",
              "  </style>\n",
              "\n",
              "      <script>\n",
              "        const buttonEl =\n",
              "          document.querySelector('#df-5fe9828d-d3d9-4c69-bb1b-5d12fd2bc234 button.colab-df-convert');\n",
              "        buttonEl.style.display =\n",
              "          google.colab.kernel.accessAllowed ? 'block' : 'none';\n",
              "\n",
              "        async function convertToInteractive(key) {\n",
              "          const element = document.querySelector('#df-5fe9828d-d3d9-4c69-bb1b-5d12fd2bc234');\n",
              "          const dataTable =\n",
              "            await google.colab.kernel.invokeFunction('convertToInteractive',\n",
              "                                                     [key], {});\n",
              "          if (!dataTable) return;\n",
              "\n",
              "          const docLinkHtml = 'Like what you see? Visit the ' +\n",
              "            '<a target=\"_blank\" href=https://colab.research.google.com/notebooks/data_table.ipynb>data table notebook</a>'\n",
              "            + ' to learn more about interactive tables.';\n",
              "          element.innerHTML = '';\n",
              "          dataTable['output_type'] = 'display_data';\n",
              "          await google.colab.output.renderOutput(dataTable, element);\n",
              "          const docLink = document.createElement('div');\n",
              "          docLink.innerHTML = docLinkHtml;\n",
              "          element.appendChild(docLink);\n",
              "        }\n",
              "      </script>\n",
              "    </div>\n",
              "  </div>\n",
              "  "
            ]
          },
          "metadata": {},
          "execution_count": 168
        }
      ]
    },
    {
      "cell_type": "code",
      "source": [
        "data.info(memory_usage=\"deep\")"
      ],
      "metadata": {
        "id": "0R9RUFxHu2Jj",
        "colab": {
          "base_uri": "https://localhost:8080/"
        },
        "outputId": "de31f4eb-ded4-4011-9e82-b68f7acf114f"
      },
      "execution_count": 169,
      "outputs": [
        {
          "output_type": "stream",
          "name": "stdout",
          "text": [
            "<class 'pandas.core.frame.DataFrame'>\n",
            "Int64Index: 70 entries, 0 to 69\n",
            "Data columns (total 6 columns):\n",
            " #   Column       Non-Null Count  Dtype \n",
            "---  ------       --------------  ----- \n",
            " 0   course       70 non-null     object\n",
            " 1   Credits      70 non-null     object\n",
            " 2   Instructor   70 non-null     object\n",
            " 3   Department   70 non-null     object\n",
            " 4   course_name  70 non-null     object\n",
            " 5   description  70 non-null     object\n",
            "dtypes: object(6)\n",
            "memory usage: 46.4 KB\n"
          ]
        }
      ]
    },
    {
      "cell_type": "code",
      "source": [
        "data= data.drop_duplicates()"
      ],
      "metadata": {
        "id": "Qbfo8e4Gu4mK"
      },
      "execution_count": 170,
      "outputs": []
    },
    {
      "cell_type": "code",
      "source": [
        "data.info(memory_usage=\"deep\")"
      ],
      "metadata": {
        "colab": {
          "base_uri": "https://localhost:8080/"
        },
        "id": "5y9MuEphdSE9",
        "outputId": "81f954f7-b232-4c35-cf4c-1ea4b06eada9"
      },
      "execution_count": 171,
      "outputs": [
        {
          "output_type": "stream",
          "name": "stdout",
          "text": [
            "<class 'pandas.core.frame.DataFrame'>\n",
            "Int64Index: 57 entries, 0 to 69\n",
            "Data columns (total 6 columns):\n",
            " #   Column       Non-Null Count  Dtype \n",
            "---  ------       --------------  ----- \n",
            " 0   course       57 non-null     object\n",
            " 1   Credits      57 non-null     object\n",
            " 2   Instructor   57 non-null     object\n",
            " 3   Department   57 non-null     object\n",
            " 4   course_name  57 non-null     object\n",
            " 5   description  57 non-null     object\n",
            "dtypes: object(6)\n",
            "memory usage: 38.8 KB\n"
          ]
        }
      ]
    },
    {
      "cell_type": "code",
      "source": [
        "data['vec_str'] = data[['course_name','description','Department']].agg(\" \".join,axis=1) #to list --> into encoding model --> expected shape (57,768)"
      ],
      "metadata": {
        "colab": {
          "base_uri": "https://localhost:8080/"
        },
        "id": "FygqyoKWd0CD",
        "outputId": "0c549b8a-a898-4c55-ad6a-b0c38510aab1"
      },
      "execution_count": 172,
      "outputs": [
        {
          "output_type": "stream",
          "name": "stderr",
          "text": [
            "<ipython-input-172-6226ca5a705d>:1: SettingWithCopyWarning: \n",
            "A value is trying to be set on a copy of a slice from a DataFrame.\n",
            "Try using .loc[row_indexer,col_indexer] = value instead\n",
            "\n",
            "See the caveats in the documentation: https://pandas.pydata.org/pandas-docs/stable/user_guide/indexing.html#returning-a-view-versus-a-copy\n",
            "  data['vec_str'] = data[['course_name','description','Department']].agg(\" \".join,axis=1) #to list --> into encoding model --> expected shape (57,768)\n"
          ]
        }
      ]
    },
    {
      "cell_type": "code",
      "source": [
        "print(data['vec_str'][0])"
      ],
      "metadata": {
        "colab": {
          "base_uri": "https://localhost:8080/"
        },
        "id": "ylLyLVePgKLT",
        "outputId": "02f5fcb9-83df-4761-c0d7-7397c284cf9d"
      },
      "execution_count": 173,
      "outputs": [
        {
          "output_type": "stream",
          "name": "stdout",
          "text": [
            "Introduction to 3D Computer Animation  A basic overview of the 3D animation production process, including modeling, texturing, rigging, animation, lighting, and rendering. A-F only. Pre: 255 (or concurrent). Academy for Creative Media (ACM)\n"
          ]
        }
      ]
    },
    {
      "cell_type": "code",
      "source": [
        "course_vecs_list = data['vec_str'].values.tolist()"
      ],
      "metadata": {
        "id": "ut-x1YqAktiv"
      },
      "execution_count": 174,
      "outputs": []
    },
    {
      "cell_type": "code",
      "source": [
        "len(course_vecs_list)"
      ],
      "metadata": {
        "colab": {
          "base_uri": "https://localhost:8080/"
        },
        "id": "7pKL2-mDk8W4",
        "outputId": "2db36a14-30fc-4b54-ab18-3526e0e24eb0"
      },
      "execution_count": 175,
      "outputs": [
        {
          "output_type": "execute_result",
          "data": {
            "text/plain": [
              "57"
            ]
          },
          "metadata": {},
          "execution_count": 175
        }
      ]
    },
    {
      "cell_type": "code",
      "source": [
        "course_vecs_list[:5]"
      ],
      "metadata": {
        "colab": {
          "base_uri": "https://localhost:8080/"
        },
        "id": "29EMMo-JlBGz",
        "outputId": "ee7491ba-b1ae-4fe7-fb05-8110d8d0227e"
      },
      "execution_count": 176,
      "outputs": [
        {
          "output_type": "execute_result",
          "data": {
            "text/plain": [
              "['Introduction to 3D Computer Animation  A basic overview of the 3D animation production process, including modeling, texturing, rigging, animation, lighting, and rendering. A-F only. Pre: 255 (or concurrent). Academy for Creative Media (ACM)',\n",
              " 'Fundamentals of Animation  Introduction to traditional styles and methods of hand drawn 2D, digital, and stop motion animation through theory and practice. A-F only. Pre: 255 (or concurrent) and ART 113, or consent. Academy for Creative Media (ACM)',\n",
              " 'Introduction to Cinema and Digital Media  Introduction to the study of cinema: history, aesthetics, and cultural impact. A-F only. Academy for Creative Media (ACM)',\n",
              " 'Cinematic Narrative Production  Production-intensive course with collaborative as well as individual projects. Theories and application of basic digital cinema productions, including camera, lighting, sound, and editing. ACM majors only. A-F only. Pre: 255 (or concurrent). Academy for Creative Media (ACM)',\n",
              " 'Cinematic Narrative Production  Production-intensive course with collaborative as well as individual projects. Theories and application of basic digital cinema productions, including camera, lighting, sound, and editing. ACM majors only. A-F only. Pre: 255 (or concurrent). Academy for Creative Media (ACM)']"
            ]
          },
          "metadata": {},
          "execution_count": 176
        }
      ]
    },
    {
      "cell_type": "markdown",
      "source": [
        "**Weaviate**"
      ],
      "metadata": {
        "id": "g7Kw6fS2uzU2"
      }
    },
    {
      "cell_type": "code",
      "source": [],
      "metadata": {
        "id": "T8Rf0HPudRXt"
      },
      "execution_count": null,
      "outputs": []
    },
    {
      "cell_type": "code",
      "source": [
        "import sys\n",
        "!{sys.executable} -m pip install weaviate-client==3.0.0\n",
        "!{sys.executable} -m pip install torch \n",
        "!{sys.executable} -m pip install transformers \n",
        "!{sys.executable} -m pip install nltk "
      ],
      "metadata": {
        "colab": {
          "base_uri": "https://localhost:8080/"
        },
        "id": "tj977z3Ku7FM",
        "outputId": "b4794afe-f77b-46cd-91ce-a608987a6d6b"
      },
      "execution_count": 177,
      "outputs": [
        {
          "output_type": "stream",
          "name": "stdout",
          "text": [
            "Looking in indexes: https://pypi.org/simple, https://us-python.pkg.dev/colab-wheels/public/simple/\n",
            "Requirement already satisfied: weaviate-client==3.0.0 in /usr/local/lib/python3.8/dist-packages (3.0.0)\n",
            "Requirement already satisfied: tqdm<4.62.0,>=4.59.0 in /usr/local/lib/python3.8/dist-packages (from weaviate-client==3.0.0) (4.61.2)\n",
            "Requirement already satisfied: requests<2.26.0,>=2.23.0 in /usr/local/lib/python3.8/dist-packages (from weaviate-client==3.0.0) (2.23.0)\n",
            "Requirement already satisfied: validators<0.19.0,>=0.18.2 in /usr/local/lib/python3.8/dist-packages (from weaviate-client==3.0.0) (0.18.2)\n",
            "Requirement already satisfied: chardet<4,>=3.0.2 in /usr/local/lib/python3.8/dist-packages (from requests<2.26.0,>=2.23.0->weaviate-client==3.0.0) (3.0.4)\n",
            "Requirement already satisfied: idna<3,>=2.5 in /usr/local/lib/python3.8/dist-packages (from requests<2.26.0,>=2.23.0->weaviate-client==3.0.0) (2.10)\n",
            "Requirement already satisfied: certifi>=2017.4.17 in /usr/local/lib/python3.8/dist-packages (from requests<2.26.0,>=2.23.0->weaviate-client==3.0.0) (2022.9.24)\n",
            "Requirement already satisfied: urllib3!=1.25.0,!=1.25.1,<1.26,>=1.21.1 in /usr/local/lib/python3.8/dist-packages (from requests<2.26.0,>=2.23.0->weaviate-client==3.0.0) (1.24.3)\n",
            "Requirement already satisfied: six>=1.4.0 in /usr/local/lib/python3.8/dist-packages (from validators<0.19.0,>=0.18.2->weaviate-client==3.0.0) (1.15.0)\n",
            "Requirement already satisfied: decorator>=3.4.0 in /usr/local/lib/python3.8/dist-packages (from validators<0.19.0,>=0.18.2->weaviate-client==3.0.0) (4.4.2)\n",
            "Looking in indexes: https://pypi.org/simple, https://us-python.pkg.dev/colab-wheels/public/simple/\n",
            "Requirement already satisfied: torch in /usr/local/lib/python3.8/dist-packages (1.12.1+cu113)\n",
            "Requirement already satisfied: typing-extensions in /usr/local/lib/python3.8/dist-packages (from torch) (4.1.1)\n",
            "Looking in indexes: https://pypi.org/simple, https://us-python.pkg.dev/colab-wheels/public/simple/\n",
            "Requirement already satisfied: transformers in /usr/local/lib/python3.8/dist-packages (4.25.1)\n",
            "Requirement already satisfied: requests in /usr/local/lib/python3.8/dist-packages (from transformers) (2.23.0)\n",
            "Requirement already satisfied: filelock in /usr/local/lib/python3.8/dist-packages (from transformers) (3.8.0)\n",
            "Requirement already satisfied: pyyaml>=5.1 in /usr/local/lib/python3.8/dist-packages (from transformers) (6.0)\n",
            "Requirement already satisfied: tokenizers!=0.11.3,<0.14,>=0.11.1 in /usr/local/lib/python3.8/dist-packages (from transformers) (0.13.2)\n",
            "Requirement already satisfied: huggingface-hub<1.0,>=0.10.0 in /usr/local/lib/python3.8/dist-packages (from transformers) (0.11.1)\n",
            "Requirement already satisfied: regex!=2019.12.17 in /usr/local/lib/python3.8/dist-packages (from transformers) (2022.6.2)\n",
            "Requirement already satisfied: packaging>=20.0 in /usr/local/lib/python3.8/dist-packages (from transformers) (21.3)\n",
            "Requirement already satisfied: tqdm>=4.27 in /usr/local/lib/python3.8/dist-packages (from transformers) (4.61.2)\n",
            "Requirement already satisfied: numpy>=1.17 in /usr/local/lib/python3.8/dist-packages (from transformers) (1.21.6)\n",
            "Requirement already satisfied: typing-extensions>=3.7.4.3 in /usr/local/lib/python3.8/dist-packages (from huggingface-hub<1.0,>=0.10.0->transformers) (4.1.1)\n",
            "Requirement already satisfied: pyparsing!=3.0.5,>=2.0.2 in /usr/local/lib/python3.8/dist-packages (from packaging>=20.0->transformers) (3.0.9)\n",
            "Requirement already satisfied: certifi>=2017.4.17 in /usr/local/lib/python3.8/dist-packages (from requests->transformers) (2022.9.24)\n",
            "Requirement already satisfied: chardet<4,>=3.0.2 in /usr/local/lib/python3.8/dist-packages (from requests->transformers) (3.0.4)\n",
            "Requirement already satisfied: idna<3,>=2.5 in /usr/local/lib/python3.8/dist-packages (from requests->transformers) (2.10)\n",
            "Requirement already satisfied: urllib3!=1.25.0,!=1.25.1,<1.26,>=1.21.1 in /usr/local/lib/python3.8/dist-packages (from requests->transformers) (1.24.3)\n",
            "Looking in indexes: https://pypi.org/simple, https://us-python.pkg.dev/colab-wheels/public/simple/\n",
            "Requirement already satisfied: nltk in /usr/local/lib/python3.8/dist-packages (3.7)\n",
            "Requirement already satisfied: joblib in /usr/local/lib/python3.8/dist-packages (from nltk) (1.2.0)\n",
            "Requirement already satisfied: regex>=2021.8.3 in /usr/local/lib/python3.8/dist-packages (from nltk) (2022.6.2)\n",
            "Requirement already satisfied: tqdm in /usr/local/lib/python3.8/dist-packages (from nltk) (4.61.2)\n",
            "Requirement already satisfied: click in /usr/local/lib/python3.8/dist-packages (from nltk) (7.1.2)\n"
          ]
        }
      ]
    },
    {
      "cell_type": "code",
      "source": [
        "!{sys.executable} -m pip install sentence-transformers"
      ],
      "metadata": {
        "colab": {
          "base_uri": "https://localhost:8080/"
        },
        "id": "tawN0GzwsUr6",
        "outputId": "f6053772-d332-4bd7-d787-60c94e0a9dee"
      },
      "execution_count": 178,
      "outputs": [
        {
          "output_type": "stream",
          "name": "stdout",
          "text": [
            "Looking in indexes: https://pypi.org/simple, https://us-python.pkg.dev/colab-wheels/public/simple/\n",
            "Requirement already satisfied: sentence-transformers in /usr/local/lib/python3.8/dist-packages (2.2.2)\n",
            "Requirement already satisfied: scipy in /usr/local/lib/python3.8/dist-packages (from sentence-transformers) (1.7.3)\n",
            "Requirement already satisfied: tqdm in /usr/local/lib/python3.8/dist-packages (from sentence-transformers) (4.61.2)\n",
            "Requirement already satisfied: torchvision in /usr/local/lib/python3.8/dist-packages (from sentence-transformers) (0.13.1+cu113)\n",
            "Requirement already satisfied: huggingface-hub>=0.4.0 in /usr/local/lib/python3.8/dist-packages (from sentence-transformers) (0.11.1)\n",
            "Requirement already satisfied: torch>=1.6.0 in /usr/local/lib/python3.8/dist-packages (from sentence-transformers) (1.12.1+cu113)\n",
            "Requirement already satisfied: scikit-learn in /usr/local/lib/python3.8/dist-packages (from sentence-transformers) (1.0.2)\n",
            "Requirement already satisfied: transformers<5.0.0,>=4.6.0 in /usr/local/lib/python3.8/dist-packages (from sentence-transformers) (4.25.1)\n",
            "Requirement already satisfied: sentencepiece in /usr/local/lib/python3.8/dist-packages (from sentence-transformers) (0.1.97)\n",
            "Requirement already satisfied: nltk in /usr/local/lib/python3.8/dist-packages (from sentence-transformers) (3.7)\n",
            "Requirement already satisfied: numpy in /usr/local/lib/python3.8/dist-packages (from sentence-transformers) (1.21.6)\n",
            "Requirement already satisfied: pyyaml>=5.1 in /usr/local/lib/python3.8/dist-packages (from huggingface-hub>=0.4.0->sentence-transformers) (6.0)\n",
            "Requirement already satisfied: filelock in /usr/local/lib/python3.8/dist-packages (from huggingface-hub>=0.4.0->sentence-transformers) (3.8.0)\n",
            "Requirement already satisfied: requests in /usr/local/lib/python3.8/dist-packages (from huggingface-hub>=0.4.0->sentence-transformers) (2.23.0)\n",
            "Requirement already satisfied: packaging>=20.9 in /usr/local/lib/python3.8/dist-packages (from huggingface-hub>=0.4.0->sentence-transformers) (21.3)\n",
            "Requirement already satisfied: typing-extensions>=3.7.4.3 in /usr/local/lib/python3.8/dist-packages (from huggingface-hub>=0.4.0->sentence-transformers) (4.1.1)\n",
            "Requirement already satisfied: pyparsing!=3.0.5,>=2.0.2 in /usr/local/lib/python3.8/dist-packages (from packaging>=20.9->huggingface-hub>=0.4.0->sentence-transformers) (3.0.9)\n",
            "Requirement already satisfied: tokenizers!=0.11.3,<0.14,>=0.11.1 in /usr/local/lib/python3.8/dist-packages (from transformers<5.0.0,>=4.6.0->sentence-transformers) (0.13.2)\n",
            "Requirement already satisfied: regex!=2019.12.17 in /usr/local/lib/python3.8/dist-packages (from transformers<5.0.0,>=4.6.0->sentence-transformers) (2022.6.2)\n",
            "Requirement already satisfied: joblib in /usr/local/lib/python3.8/dist-packages (from nltk->sentence-transformers) (1.2.0)\n",
            "Requirement already satisfied: click in /usr/local/lib/python3.8/dist-packages (from nltk->sentence-transformers) (7.1.2)\n",
            "Requirement already satisfied: urllib3!=1.25.0,!=1.25.1,<1.26,>=1.21.1 in /usr/local/lib/python3.8/dist-packages (from requests->huggingface-hub>=0.4.0->sentence-transformers) (1.24.3)\n",
            "Requirement already satisfied: idna<3,>=2.5 in /usr/local/lib/python3.8/dist-packages (from requests->huggingface-hub>=0.4.0->sentence-transformers) (2.10)\n",
            "Requirement already satisfied: certifi>=2017.4.17 in /usr/local/lib/python3.8/dist-packages (from requests->huggingface-hub>=0.4.0->sentence-transformers) (2022.9.24)\n",
            "Requirement already satisfied: chardet<4,>=3.0.2 in /usr/local/lib/python3.8/dist-packages (from requests->huggingface-hub>=0.4.0->sentence-transformers) (3.0.4)\n",
            "Requirement already satisfied: threadpoolctl>=2.0.0 in /usr/local/lib/python3.8/dist-packages (from scikit-learn->sentence-transformers) (3.1.0)\n",
            "Requirement already satisfied: pillow!=8.3.*,>=5.3.0 in /usr/local/lib/python3.8/dist-packages (from torchvision->sentence-transformers) (7.1.2)\n"
          ]
        }
      ]
    },
    {
      "cell_type": "code",
      "source": [
        "from getpass import getpass\n",
        "import weaviate\n",
        "from weaviate.wcs import WCS\n",
        "import torch\n",
        "import uuid\n",
        "import tqdm\n",
        "from transformers import AutoModel, AutoTokenizer\n",
        "from nltk.tokenize import sent_tokenize\n",
        "from sentence_transformers import SentenceTransformer"
      ],
      "metadata": {
        "id": "iij3Rfx-vNgv"
      },
      "execution_count": 179,
      "outputs": []
    },
    {
      "cell_type": "code",
      "source": [
        "my_credentials = weaviate.auth.AuthClientPassword(username=input(\"User name: \"), password=getpass('Password: '))\n"
      ],
      "metadata": {
        "id": "QOY5hVSlvSG9",
        "colab": {
          "base_uri": "https://localhost:8080/"
        },
        "outputId": "d1f68ad5-3ec1-47b6-87eb-72ae118bdc52"
      },
      "execution_count": 183,
      "outputs": [
        {
          "name": "stdout",
          "output_type": "stream",
          "text": [
            "User name: cedward2@hawaii.edu\n",
            "Password: ··········\n"
          ]
        }
      ]
    },
    {
      "cell_type": "code",
      "source": [
        "my_wcs = WCS(my_credentials)"
      ],
      "metadata": {
        "id": "VS6gPjJLvrGD"
      },
      "execution_count": 184,
      "outputs": []
    },
    {
      "cell_type": "code",
      "source": [
        "cluster_name = 'course-search-instance'\n",
        "weaviate_url = my_wcs.create(cluster_name)\n",
        "weaviate_url"
      ],
      "metadata": {
        "id": "NvWl1iW6viLi",
        "colab": {
          "base_uri": "https://localhost:8080/",
          "height": 53
        },
        "outputId": "6e579c92-9414-4de1-f570-51813e623bbf"
      },
      "execution_count": 185,
      "outputs": [
        {
          "output_type": "stream",
          "name": "stderr",
          "text": [
            "100%|██████████| 100/100 [01:26<00:00,  1.15it/s]\n"
          ]
        },
        {
          "output_type": "execute_result",
          "data": {
            "text/plain": [
              "'https://course-search-instance.semi.network'"
            ],
            "application/vnd.google.colaboratory.intrinsic+json": {
              "type": "string"
            }
          },
          "metadata": {},
          "execution_count": 185
        }
      ]
    },
    {
      "cell_type": "code",
      "source": [
        "my_wcs.is_ready(cluster_name)"
      ],
      "metadata": {
        "id": "poNsN-Y6wEeE",
        "colab": {
          "base_uri": "https://localhost:8080/"
        },
        "outputId": "d91820bf-792f-4bb7-a5ed-d6f65998794c"
      },
      "execution_count": 186,
      "outputs": [
        {
          "output_type": "execute_result",
          "data": {
            "text/plain": [
              "True"
            ]
          },
          "metadata": {},
          "execution_count": 186
        }
      ]
    },
    {
      "cell_type": "code",
      "source": [
        "client = weaviate.Client(weaviate_url)"
      ],
      "metadata": {
        "id": "dR29MfdiwLAa"
      },
      "execution_count": 187,
      "outputs": []
    },
    {
      "cell_type": "markdown",
      "source": [
        "**Schema:**"
      ],
      "metadata": {
        "id": "43MhwEn_wSfn"
      }
    },
    {
      "cell_type": "code",
      "source": [
        "#clear any previous schema on instance\n",
        "client.schema.delete_all() # delete all classes\n",
        "client.schema.get()"
      ],
      "metadata": {
        "colab": {
          "base_uri": "https://localhost:8080/"
        },
        "id": "r1ZxXxswwV9U",
        "outputId": "bd9f392f-772d-401e-8f28-9407b24e12ca"
      },
      "execution_count": 188,
      "outputs": [
        {
          "output_type": "execute_result",
          "data": {
            "text/plain": [
              "{'classes': []}"
            ]
          },
          "metadata": {},
          "execution_count": 188
        }
      ]
    },
    {
      "cell_type": "code",
      "source": [
        "#simple class #default configs #no vector\n",
        "course_schema = {\n",
        "     \"classes\": [{\n",
        "                    \"class\": \"Course\",\n",
        "                    \"description\": \"A Course class to store: course_name, description, credits, instructor, department\",\n",
        "                    \"vectorizer\": \"none\", # explicitly tell Weaviate not to vectorize anything, we are providing the vectors ourselves through our BERT model\n",
        "                    \"properties\": [{\n",
        "                        \"dataType\": [\n",
        "                          \"string\"\n",
        "                        ],\n",
        "                        \"description\": \"The name of the course\",\n",
        "                        \"name\": \"courseName\"\n",
        "                      },\n",
        "                      {\n",
        "                        \"dataType\": [\n",
        "                          \"text\"\n",
        "                        ],\n",
        "                        \"description\": \"The course description from catalog\",\n",
        "                        \"name\": \"description\"\n",
        "                      },\n",
        "                      {\n",
        "                        \"dataType\": [\n",
        "                          \"int\"\n",
        "                        ],\n",
        "                        \"description\": \"Number of credits for the course\",\n",
        "                        \"name\": \"credits\"\n",
        "                      },\n",
        "                      {\n",
        "                        \"dataType\": [\n",
        "                          \"string\"\n",
        "                        ],\n",
        "                        \"description\": \"Instructor of this course\",\n",
        "                        \"name\": \"instructor\"\n",
        "                      },\n",
        "                      {\n",
        "                        \"dataType\": [\n",
        "                          \"string\"\n",
        "                        ],\n",
        "                        \"description\": \"Academic department of this course\",\n",
        "                        \"name\": \"department\"\n",
        "                      }]\n",
        "            }]}"
      ],
      "metadata": {
        "id": "Et28-ON1hTDX"
      },
      "execution_count": 189,
      "outputs": []
    },
    {
      "cell_type": "code",
      "source": [
        "#updated schema no_vectorizer\n",
        "\n",
        "DNU_course_schema = {\n",
        "     \"classes\": [{\n",
        "                    \"class\": \"Course\",\n",
        "                    \"description\": \"A Course class to store: course_name, description, credits, Instructor, Department\",\n",
        "                    \"vectorizer\": \"none\", # explicitly tell Weaviate not to vectorize anything, we are providing the vectors ourselves through our BERT model\n",
        "                    \"properties\": [{\n",
        "                        \"dataType\": [\n",
        "                          \"string\"\n",
        "                        ],\n",
        "                        \"description\": \"The name of the course\",\n",
        "                        \"name\": \"courseName\"\n",
        "                      },\n",
        "                      {\n",
        "                        \"dataType\": [\n",
        "                          \"text\"\n",
        "                        ],\n",
        "                        \"description\": \"The course description from catalog\",\n",
        "                        \"name\": \"description\"\n",
        "                      },\n",
        "                      {\n",
        "                        \"dataType\": [\n",
        "                          \"int\"\n",
        "                        ],\n",
        "                        \"description\": \"Number of credits for the course\",\n",
        "                        \"name\": \"credits\"\n",
        "                      },\n",
        "                      {\n",
        "                        \"dataType\": [\n",
        "                          \"Instructor\"\n",
        "                        ],\n",
        "                        \"description\": \"Instructor of this course\",\n",
        "                        \"name\": \"hasInstructor\"\n",
        "                      },\n",
        "                      {\n",
        "                        \"dataType\": [\n",
        "                          \"Department\"\n",
        "                        ],\n",
        "                        \"description\": \"Academic department of this course\",\n",
        "                        \"name\": \"inDepartment\"\n",
        "                      }]\n",
        "            },\n",
        "            {\n",
        "                    \"class\": \"Instructor\",\n",
        "                    \"description\": \"Instructor class has instructor name and Department information\",\n",
        "                    \"vectorizer\": \"none\", # explicitly tell Weaviate not to vectorize anything, we are providing the vectors ourselves through our BERT model\n",
        "                    \"properties\": [{\n",
        "                        \"dataType\": [\n",
        "                          \"string\"\n",
        "                        ],\n",
        "                        \"description\": \"The name of the author\",\n",
        "                        \"name\": \"name\"\n",
        "                      },\n",
        "                      {\n",
        "                        \"dataType\": [\n",
        "                          \"Course\"\n",
        "                        ],\n",
        "                        \"description\": \"The courses taught by Instructor\",\n",
        "                        \"name\": \"hasCourses\"\n",
        "                      },\n",
        "                      {\n",
        "                        \"dataType\": [\n",
        "                          \"Department\"\n",
        "                        ],\n",
        "                        \"description\": \"Instructor in this Department\",\n",
        "                        \"name\": \"inDepartment\"\n",
        "                      }\n",
        "                        \n",
        "                    ]\n",
        "            },\n",
        "            {\n",
        "                   \"class\": \"Department\",\n",
        "                    \"description\": \"Academic Department has courses and instructors\",\n",
        "                    \"vectorizer\": \"none\", # explicitly tell Weaviate not to vectorize anything, we are providing the vectors ourselves through our BERT model\n",
        "                    \"properties\": [{\n",
        "                        \"dataType\": [\n",
        "                          \"string\"\n",
        "                        ],\n",
        "                        \"description\": \"name of Department\",\n",
        "                        \"name\": \"name\"\n",
        "                      },        \n",
        "                      {\n",
        "                        \"dataType\": [\n",
        "                          \"Instructor\"\n",
        "                        ],\n",
        "                        \"description\": \"The instructors in the department\",\n",
        "                        \"name\": \"hasInstructor\"\n",
        "                      },\n",
        "                      {\n",
        "                        \"dataType\": [\n",
        "                          \"Course\"\n",
        "                        ],\n",
        "                        \"description\": \"The courses in the department\",\n",
        "                        \"name\": \"hasCourses\"\n",
        "                      }]\n",
        "            },\n",
        "            ]\n",
        "}"
      ],
      "metadata": {
        "id": "jE2fv67chUy1"
      },
      "execution_count": null,
      "outputs": []
    },
    {
      "cell_type": "code",
      "source": [
        "client.schema.create(course_schema)"
      ],
      "metadata": {
        "id": "OkFtfcCV_L7u"
      },
      "execution_count": 190,
      "outputs": []
    },
    {
      "cell_type": "code",
      "source": [
        "client.schema.get()"
      ],
      "metadata": {
        "colab": {
          "base_uri": "https://localhost:8080/"
        },
        "id": "eX0n5a0A_7v3",
        "outputId": "fd564724-a0ce-410f-ac0e-9565fb75a9b1"
      },
      "execution_count": 191,
      "outputs": [
        {
          "output_type": "execute_result",
          "data": {
            "text/plain": [
              "{'classes': [{'class': 'Course',\n",
              "   'description': 'A Course class to store: course_name, description, credits, instructor, department',\n",
              "   'invertedIndexConfig': {'bm25': {'b': 0.75, 'k1': 1.2},\n",
              "    'cleanupIntervalSeconds': 60,\n",
              "    'stopwords': {'additions': None, 'preset': 'en', 'removals': None}},\n",
              "   'properties': [{'dataType': ['string'],\n",
              "     'description': 'The name of the course',\n",
              "     'name': 'courseName',\n",
              "     'tokenization': 'word'},\n",
              "    {'dataType': ['text'],\n",
              "     'description': 'The course description from catalog',\n",
              "     'name': 'description',\n",
              "     'tokenization': 'word'},\n",
              "    {'dataType': ['int'],\n",
              "     'description': 'Number of credits for the course',\n",
              "     'name': 'credits'},\n",
              "    {'dataType': ['string'],\n",
              "     'description': 'Instructor of this course',\n",
              "     'name': 'instructor',\n",
              "     'tokenization': 'word'},\n",
              "    {'dataType': ['string'],\n",
              "     'description': 'Academic department of this course',\n",
              "     'name': 'department',\n",
              "     'tokenization': 'word'}],\n",
              "   'shardingConfig': {'virtualPerPhysical': 128,\n",
              "    'desiredCount': 1,\n",
              "    'actualCount': 1,\n",
              "    'desiredVirtualCount': 128,\n",
              "    'actualVirtualCount': 128,\n",
              "    'key': '_id',\n",
              "    'strategy': 'hash',\n",
              "    'function': 'murmur3'},\n",
              "   'vectorIndexConfig': {'skip': False,\n",
              "    'cleanupIntervalSeconds': 300,\n",
              "    'maxConnections': 64,\n",
              "    'efConstruction': 128,\n",
              "    'ef': -1,\n",
              "    'dynamicEfMin': 100,\n",
              "    'dynamicEfMax': 500,\n",
              "    'dynamicEfFactor': 8,\n",
              "    'vectorCacheMaxObjects': 1000000000000,\n",
              "    'flatSearchCutoff': 40000,\n",
              "    'distance': 'cosine'},\n",
              "   'vectorIndexType': 'hnsw',\n",
              "   'vectorizer': 'none'}]}"
            ]
          },
          "metadata": {},
          "execution_count": 191
        }
      ]
    },
    {
      "cell_type": "markdown",
      "source": [],
      "metadata": {
        "id": "qEQ3DM-2EyEV"
      }
    },
    {
      "cell_type": "code",
      "source": [],
      "metadata": {
        "id": "uu4g-SC2tsaW"
      },
      "execution_count": null,
      "outputs": []
    },
    {
      "cell_type": "markdown",
      "source": [
        "VECTORS"
      ],
      "metadata": {
        "id": "gXc7emHDttRo"
      }
    },
    {
      "cell_type": "code",
      "source": [
        "model_in = 'bert-base-nli-mean-tokens'"
      ],
      "metadata": {
        "id": "HrKDsRBPtuNE"
      },
      "execution_count": 192,
      "outputs": []
    },
    {
      "cell_type": "code",
      "source": [
        "model =  SentenceTransformer(model_in)"
      ],
      "metadata": {
        "id": "c6afyK7RuZWE"
      },
      "execution_count": 193,
      "outputs": []
    },
    {
      "cell_type": "code",
      "source": [
        "#create vector for course: name + description\n",
        "#create vector for department: name "
      ],
      "metadata": {
        "id": "8UpyVA03wMUl"
      },
      "execution_count": null,
      "outputs": []
    },
    {
      "cell_type": "markdown",
      "source": [
        "Load Data"
      ],
      "metadata": {
        "id": "4MulKDP7EzZk"
      }
    },
    {
      "cell_type": "code",
      "source": [
        "inner_join.iloc[0]"
      ],
      "metadata": {
        "colab": {
          "base_uri": "https://localhost:8080/"
        },
        "id": "bgaALNKwGALu",
        "outputId": "d3510cca-5cdb-4287-9c0d-b59c3382892c"
      },
      "execution_count": 194,
      "outputs": [
        {
          "output_type": "execute_result",
          "data": {
            "text/plain": [
              "GenEd/Focus/Special Des.                                                DA,NI\n",
              "CRN                                                                     87317\n",
              "course                                                                ACM 215\n",
              "Section                                                                   001\n",
              "Title                       Intro to 3D Computer AnimationRestriction: Dep...\n",
              "Credits                                                                     3\n",
              "Instructor                                                        J F Parente\n",
              "Curr.Enrolled                                                              17\n",
              "Seatsavail                                                                  0\n",
              "Curr.Waitlisted                                                            12\n",
              "Waitavail.                                                                 13\n",
              "Days                                                                        W\n",
              "Time                                                               0130-0420p\n",
              "Room                                                                   CR 220\n",
              "Dates                                                             01/09-05/12\n",
              "Department                                   Academy for Creative Media (ACM)\n",
              "course_name                            Introduction to 3D Computer Animation \n",
              "description                 A basic overview of the 3D animation productio...\n",
              "Name: 0, dtype: object"
            ]
          },
          "metadata": {},
          "execution_count": 194
        }
      ]
    },
    {
      "cell_type": "code",
      "source": [
        "inner_join.iloc[0]['Department']"
      ],
      "metadata": {
        "colab": {
          "base_uri": "https://localhost:8080/",
          "height": 35
        },
        "id": "uhCpyJm3JhtC",
        "outputId": "e301b84e-cdc2-4f4d-fc17-5282e73e8afd"
      },
      "execution_count": 195,
      "outputs": [
        {
          "output_type": "execute_result",
          "data": {
            "text/plain": [
              "'Academy for Creative Media (ACM)'"
            ],
            "application/vnd.google.colaboratory.intrinsic+json": {
              "type": "string"
            }
          },
          "metadata": {},
          "execution_count": 195
        }
      ]
    },
    {
      "cell_type": "code",
      "source": [
        "course_object = {\n",
        "    'courseName':inner_join.iloc[0]['course_name'],\n",
        "    'description':inner_join.iloc[0]['description'],\n",
        "    'credits':int(inner_join.iloc[0]['Credits']),\n",
        "    'instructor':inner_join.iloc[0]['Instructor'],\n",
        "    'department':inner_join.iloc[0]['Department']\n",
        "\n",
        "}"
      ],
      "metadata": {
        "id": "5rqkuTg9GJSt"
      },
      "execution_count": 196,
      "outputs": []
    },
    {
      "cell_type": "code",
      "source": [
        "course_object"
      ],
      "metadata": {
        "colab": {
          "base_uri": "https://localhost:8080/"
        },
        "id": "cxnuUT2rKPkA",
        "outputId": "8640786f-18cb-4dd3-afac-fbaf25bd17c6"
      },
      "execution_count": 197,
      "outputs": [
        {
          "output_type": "execute_result",
          "data": {
            "text/plain": [
              "{'courseName': 'Introduction to 3D Computer Animation ',\n",
              " 'description': 'A basic overview of the 3D animation production process, including modeling, texturing, rigging, animation, lighting, and rendering. A-F only. Pre: 255 (or concurrent).',\n",
              " 'credits': 3,\n",
              " 'instructor': 'J F Parente',\n",
              " 'department': 'Academy for Creative Media (ACM)'}"
            ]
          },
          "metadata": {},
          "execution_count": 197
        }
      ]
    },
    {
      "cell_type": "code",
      "source": [
        "##Code for this function sourced from Weaviate documentation!\n",
        "\n",
        "def generate_uuid(class_name: str, identifier: str,\n",
        "                  test: str = 'teststrong') -> str:\n",
        "    \"\"\" Generate a uuid based on an identifier\n",
        "    :param identifier: characters used to generate the uuid\n",
        "    :type identifier: str, required\n",
        "    :param class_name: classname of the object to create a uuid for\n",
        "    :type class_name: str, required\n",
        "    \"\"\"\n",
        "    test = 'overwritten'\n",
        "    return str(uuid.uuid5(uuid.NAMESPACE_DNS, class_name + identifier))"
      ],
      "metadata": {
        "id": "slCJgqsrLXKc"
      },
      "execution_count": 198,
      "outputs": []
    },
    {
      "cell_type": "code",
      "source": [
        "course_id = generate_uuid('Course',inner_join.iloc[0]['CRN'])"
      ],
      "metadata": {
        "id": "KcH6eE0SNLDh"
      },
      "execution_count": 199,
      "outputs": []
    },
    {
      "cell_type": "code",
      "source": [
        "course_id"
      ],
      "metadata": {
        "colab": {
          "base_uri": "https://localhost:8080/",
          "height": 35
        },
        "id": "DmX5tfPGBZUy",
        "outputId": "3b1b63c7-04cc-4149-e79b-8c94025f5e36"
      },
      "execution_count": 200,
      "outputs": [
        {
          "output_type": "execute_result",
          "data": {
            "text/plain": [
              "'a499ce32-bd9c-547d-bdc9-072737a6edc5'"
            ],
            "application/vnd.google.colaboratory.intrinsic+json": {
              "type": "string"
            }
          },
          "metadata": {},
          "execution_count": 200
        }
      ]
    },
    {
      "cell_type": "code",
      "source": [
        "result = client.data_object.validate(\n",
        "    data_object=course_object,\n",
        "    class_name='Course',\n",
        "    uuid = course_id,\n",
        "    \n",
        ")"
      ],
      "metadata": {
        "id": "kdDoIGtFKQzM"
      },
      "execution_count": 201,
      "outputs": []
    },
    {
      "cell_type": "code",
      "source": [
        "result"
      ],
      "metadata": {
        "colab": {
          "base_uri": "https://localhost:8080/"
        },
        "id": "HjXR3laLLCaY",
        "outputId": "145881f9-aaf6-4503-e606-ead5cdaac005"
      },
      "execution_count": 202,
      "outputs": [
        {
          "output_type": "execute_result",
          "data": {
            "text/plain": [
              "{'error': None, 'valid': True}"
            ]
          },
          "metadata": {},
          "execution_count": 202
        }
      ]
    },
    {
      "cell_type": "code",
      "source": [],
      "metadata": {
        "id": "5IoRw5O2WNxh"
      },
      "execution_count": null,
      "outputs": []
    },
    {
      "cell_type": "markdown",
      "source": [
        "VECTOR SANDBOX"
      ],
      "metadata": {
        "id": "ZXvdOzlOWBvz"
      }
    },
    {
      "cell_type": "code",
      "source": [
        "#ziptest\n",
        "\n",
        "lat =['A','B','C']\n",
        "lon = [1,2,3]\n",
        "\n",
        "newList = [*zip(lat,lon)]\n",
        "newList"
      ],
      "metadata": {
        "id": "JZp6xUkLLD6F"
      },
      "execution_count": null,
      "outputs": []
    },
    {
      "cell_type": "code",
      "source": [
        "vec_str = inner_join.iloc[0]['course_name'] +' '+ inner_join.iloc[0]['description'] + ' '+ inner_join.iloc[0]['Department']\n",
        "vec_str"
      ],
      "metadata": {
        "colab": {
          "base_uri": "https://localhost:8080/",
          "height": 53
        },
        "id": "Q7Q59-fVPwWO",
        "outputId": "cba05f8b-5c70-4a92-9a3b-c67d0e316841"
      },
      "execution_count": 203,
      "outputs": [
        {
          "output_type": "execute_result",
          "data": {
            "text/plain": [
              "'Introduction to 3D Computer Animation  A basic overview of the 3D animation production process, including modeling, texturing, rigging, animation, lighting, and rendering. A-F only. Pre: 255 (or concurrent). Academy for Creative Media (ACM)'"
            ],
            "application/vnd.google.colaboratory.intrinsic+json": {
              "type": "string"
            }
          },
          "metadata": {},
          "execution_count": 203
        }
      ]
    },
    {
      "cell_type": "code",
      "source": [
        "vec_str1 = inner_join.iloc[1]['course_name'] +' '+ inner_join.iloc[1]['description'] + ' '+ inner_join.iloc[1]['Department']\n",
        "vec_str1"
      ],
      "metadata": {
        "id": "0Mi-WdeBVRRi"
      },
      "execution_count": null,
      "outputs": []
    },
    {
      "cell_type": "code",
      "source": [
        "vec = model.encode([vec_str])\n",
        "vec.shape"
      ],
      "metadata": {
        "colab": {
          "base_uri": "https://localhost:8080/"
        },
        "id": "eAPq2_3HUYcp",
        "outputId": "1ea72ab1-cf47-4b89-da06-5bcd0a0cb8c0"
      },
      "execution_count": 204,
      "outputs": [
        {
          "output_type": "execute_result",
          "data": {
            "text/plain": [
              "(1, 768)"
            ]
          },
          "metadata": {},
          "execution_count": 204
        }
      ]
    },
    {
      "cell_type": "code",
      "source": [
        "vec_str_lst = list()\n",
        "vec_str_lst.append(vec_str)\n",
        "vec_str_lst.append(vec_str1)\n",
        "len(vec_str_lst)"
      ],
      "metadata": {
        "id": "YenZjBvlVEQj"
      },
      "execution_count": null,
      "outputs": []
    },
    {
      "cell_type": "code",
      "source": [
        "vec2 = model.encode(vec_str_lst)\n",
        "vec2.shape"
      ],
      "metadata": {
        "id": "AO7NHcRQUkGi"
      },
      "execution_count": null,
      "outputs": []
    },
    {
      "cell_type": "code",
      "source": [
        "print(type(vec2))"
      ],
      "metadata": {
        "id": "dIUqbImoVtv4"
      },
      "execution_count": null,
      "outputs": []
    },
    {
      "cell_type": "code",
      "source": [
        "vec2  "
      ],
      "metadata": {
        "id": "EJWmGY76VzlQ"
      },
      "execution_count": null,
      "outputs": []
    },
    {
      "cell_type": "code",
      "source": [],
      "metadata": {
        "id": "fjc83ea3V2Lp"
      },
      "execution_count": null,
      "outputs": []
    },
    {
      "cell_type": "markdown",
      "source": [
        "Load Object to Weaviate"
      ],
      "metadata": {
        "id": "XmTbzAoKYOPs"
      }
    },
    {
      "cell_type": "code",
      "source": [
        "client.data_object.create(\n",
        "    data_object=course_object,\n",
        "    class_name='Course',\n",
        "    uuid = course_id,\n",
        "    vector = vec\n",
        ")"
      ],
      "metadata": {
        "colab": {
          "base_uri": "https://localhost:8080/",
          "height": 35
        },
        "id": "Nky6Gl92YRUp",
        "outputId": "b7a30a58-7bca-4adc-8beb-69c771f064e5"
      },
      "execution_count": 205,
      "outputs": [
        {
          "output_type": "execute_result",
          "data": {
            "text/plain": [
              "'a499ce32-bd9c-547d-bdc9-072737a6edc5'"
            ],
            "application/vnd.google.colaboratory.intrinsic+json": {
              "type": "string"
            }
          },
          "metadata": {},
          "execution_count": 205
        }
      ]
    },
    {
      "cell_type": "code",
      "source": [
        "client.data_object.get(course_id, with_vector=False)"
      ],
      "metadata": {
        "colab": {
          "base_uri": "https://localhost:8080/"
        },
        "id": "Vx0X8ghGY0Ky",
        "outputId": "f4596281-1511-4a75-f268-4e3500ac8e79"
      },
      "execution_count": 206,
      "outputs": [
        {
          "output_type": "execute_result",
          "data": {
            "text/plain": [
              "{'class': 'Course',\n",
              " 'creationTimeUnix': 1670205852465,\n",
              " 'id': 'a499ce32-bd9c-547d-bdc9-072737a6edc5',\n",
              " 'lastUpdateTimeUnix': 1670205852465,\n",
              " 'properties': {'courseName': 'Introduction to 3D Computer Animation ',\n",
              "  'credits': 3,\n",
              "  'department': 'Academy for Creative Media (ACM)',\n",
              "  'description': 'A basic overview of the 3D animation production process, including modeling, texturing, rigging, animation, lighting, and rendering. A-F only. Pre: 255 (or concurrent).',\n",
              "  'instructor': 'J F Parente'},\n",
              " 'vectorWeights': None}"
            ]
          },
          "metadata": {},
          "execution_count": 206
        }
      ]
    },
    {
      "cell_type": "code",
      "source": [],
      "metadata": {
        "id": "T19V2_M8Y7k7"
      },
      "execution_count": null,
      "outputs": []
    },
    {
      "cell_type": "markdown",
      "source": [
        "Helper functions for batches"
      ],
      "metadata": {
        "id": "dMi4UPzXaS8C"
      }
    },
    {
      "cell_type": "code",
      "source": [
        "from weaviate.batch import Batch # for the typing purposes\n",
        "from weaviate.util import generate_uuid5 # old way was from weaviate.tools import generate_uuid\n"
      ],
      "metadata": {
        "id": "LBk00HknaWAS"
      },
      "execution_count": 207,
      "outputs": []
    },
    {
      "cell_type": "code",
      "source": [
        "course_vecs = model.encode(course_vecs_list)"
      ],
      "metadata": {
        "id": "j3mBAvx_jyeF"
      },
      "execution_count": 208,
      "outputs": []
    },
    {
      "cell_type": "code",
      "source": [
        "course_vecs.shape"
      ],
      "metadata": {
        "colab": {
          "base_uri": "https://localhost:8080/"
        },
        "id": "e59ayAGnnq6x",
        "outputId": "a6b75b93-ef49-482c-825b-9153a6a1020b"
      },
      "execution_count": 209,
      "outputs": [
        {
          "output_type": "execute_result",
          "data": {
            "text/plain": [
              "(57, 768)"
            ]
          },
          "metadata": {},
          "execution_count": 209
        }
      ]
    },
    {
      "cell_type": "code",
      "source": [
        "#reference\n",
        "\n",
        "course_object = {\n",
        "    'courseName':inner_join.iloc[0]['course_name'],\n",
        "    'description':inner_join.iloc[0]['description'],\n",
        "    'credits':int(inner_join.iloc[0]['Credits']),\n",
        "    'instructor':inner_join.iloc[0]['Instructor'],\n",
        "    'department':inner_join.iloc[0]['Department']\n",
        "\n",
        "}\n",
        "\n",
        "client.data_object.create(\n",
        "    data_object=course_object,\n",
        "    class_name='Course',\n",
        "    uuid = course_id,\n",
        "    vector = vec\n",
        ")"
      ],
      "metadata": {
        "id": "W448tZXnntIW"
      },
      "execution_count": null,
      "outputs": []
    },
    {
      "cell_type": "code",
      "source": [
        "def generate_uuid_mod(class_name: str, identifier: str,int:i,\n",
        "                  test: str = 'teststrong') -> str:\n",
        "    \"\"\" Generate a uuid based on an identifier\n",
        "    :param identifier: characters used to generate the uuid\n",
        "    :type identifier: str, required\n",
        "    :param class_name: classname of the object to create a uuid for\n",
        "    :type class_name: str, required\n",
        "    \"\"\"\n",
        "    test = 'overwritten'\n",
        "    return str(uuid.uuid5(uuid.NAMESPACE_DNS, class_name + identifier+str(i)))"
      ],
      "metadata": {
        "id": "5CNJhG_g143T"
      },
      "execution_count": 210,
      "outputs": []
    },
    {
      "cell_type": "code",
      "source": [
        "##UPDATE SCHEMA AND THIS FUNCTION TO INCLUDE course  (ACM 123) in properties\n",
        "\n",
        "def add_course(batch, df,vec,i):\n",
        "\n",
        "  print('create object')\n",
        "  try:\n",
        "    course_object = {\n",
        "      'courseName':df['course_name'],\n",
        "      'description':df['description'],\n",
        "      'credits':int(df['Credits']),\n",
        "      'instructor':df['Instructor'],\n",
        "      'department':df['Department']\n",
        "    } \n",
        "  except ValueError:\n",
        "    print(ValueError)\n",
        "    course_object = {\n",
        "      'courseName':df['course_name'],\n",
        "      'description':df['description'],\n",
        "      'credits':2,\n",
        "      'instructor':df['Instructor'],\n",
        "      'department':df['Department']\n",
        "    } \n",
        "\n",
        "  print('create_uuid')\n",
        "  course_id = generate_uuid_mod('Course',df['course'],i)\n",
        "\n",
        "  print('add to batch')\n",
        "  batch.add_data_object(\n",
        "      data_object = course_object,\n",
        "      class_name = 'Course',\n",
        "      uuid = course_id,\n",
        "      vector = vec\n",
        "  )\n",
        "\n",
        "  print(course_object, course_id)\n",
        "\n"
      ],
      "metadata": {
        "id": "F1uq8K-Cxyyx"
      },
      "execution_count": 211,
      "outputs": []
    },
    {
      "cell_type": "code",
      "source": [
        "client.batch.configure(\n",
        "    batch_size = 10,\n",
        "    callback = None\n",
        ")"
      ],
      "metadata": {
        "colab": {
          "base_uri": "https://localhost:8080/"
        },
        "id": "42UUtXec4l6r",
        "outputId": "7a5d70ee-57a5-44fe-9798-e4ec84f6bdcf"
      },
      "execution_count": 212,
      "outputs": [
        {
          "output_type": "execute_result",
          "data": {
            "text/plain": [
              "<weaviate.batch.crud_batch.Batch at 0x7fec058dce50>"
            ]
          },
          "metadata": {},
          "execution_count": 212
        }
      ]
    },
    {
      "cell_type": "code",
      "source": [
        "batch = client.batch"
      ],
      "metadata": {
        "id": "rbxYHgLb401r"
      },
      "execution_count": 213,
      "outputs": []
    },
    {
      "cell_type": "code",
      "source": [
        "#batch = 'temp'\n",
        "\n",
        "for i in range(len(data)):\n",
        "  add_course(batch,data.iloc[i],course_vecs[i],i)\n",
        "\n",
        "#client.batch.flush"
      ],
      "metadata": {
        "colab": {
          "base_uri": "https://localhost:8080/"
        },
        "id": "qjQjxCO4y9mA",
        "outputId": "df7999c8-fd40-4de5-8686-580eadf033c0"
      },
      "execution_count": 214,
      "outputs": [
        {
          "output_type": "stream",
          "name": "stdout",
          "text": [
            "create object\n",
            "create_uuid\n",
            "add to batch\n",
            "{'courseName': 'Introduction to 3D Computer Animation ', 'description': 'A basic overview of the 3D animation production process, including modeling, texturing, rigging, animation, lighting, and rendering. A-F only. Pre: 255 (or concurrent).', 'credits': 3, 'instructor': 'J F Parente', 'department': 'Academy for Creative Media (ACM)'} 20c5e769-dc6f-5a1a-aa40-8468732e4a16\n",
            "create object\n",
            "create_uuid\n",
            "add to batch\n",
            "{'courseName': 'Fundamentals of Animation ', 'description': 'Introduction to traditional styles and methods of hand drawn 2D, digital, and stop motion animation through theory and practice. A-F only. Pre: 255 (or concurrent) and ART 113, or consent.', 'credits': 3, 'instructor': 'L Margulies', 'department': 'Academy for Creative Media (ACM)'} 26196c79-09ea-5ea5-8de8-29480c6db0b2\n",
            "create object\n",
            "create_uuid\n",
            "add to batch\n",
            "{'courseName': 'Introduction to Cinema and Digital Media ', 'description': 'Introduction to the study of cinema: history, aesthetics, and cultural impact. A-F only.', 'credits': 3, 'instructor': 'A H Ladner', 'department': 'Academy for Creative Media (ACM)'} fff471a3-5683-5290-837d-8e10df1cefb8\n",
            "create object\n",
            "create_uuid\n",
            "add to batch\n",
            "{'courseName': 'Cinematic Narrative Production ', 'description': 'Production-intensive course with collaborative as well as individual projects. Theories and application of basic digital cinema productions, including camera, lighting, sound, and editing. ACM majors only. A-F only. Pre: 255 (or concurrent).', 'credits': 3, 'instructor': 'S E Schimmel', 'department': 'Academy for Creative Media (ACM)'} aef910a9-96b6-5357-aa2c-57a46f56faf8\n",
            "create object\n",
            "create_uuid\n",
            "add to batch\n",
            "{'courseName': 'Cinematic Narrative Production ', 'description': 'Production-intensive course with collaborative as well as individual projects. Theories and application of basic digital cinema productions, including camera, lighting, sound, and editing. ACM majors only. A-F only. Pre: 255 (or concurrent).', 'credits': 3, 'instructor': 'F Titz', 'department': 'Academy for Creative Media (ACM)'} 16170fd2-4b3b-515f-b3bc-069c0c558eb9\n",
            "create object\n",
            "create_uuid\n",
            "add to batch\n",
            "{'courseName': 'Cinematography ', 'description': 'Comprehensive course in visual styles supporting screen narratives through a study of principles of camera elements, operations, lighting, color and composition. Professional role and responsibilities of cinematographer. Project-oriented. Must have access to manually controlled still camera. ACM majors only. A-F only. Pre: 310.', 'credits': 3, 'instructor': 'F Titz', 'department': 'Academy for Creative Media (ACM)'} 09b075d4-ec2d-5cda-8279-249d0346c368\n",
            "create object\n",
            "create_uuid\n",
            "add to batch\n",
            "{'courseName': 'Experimental Art and Animation ', 'description': 'Provides students an opportunity to experiment with new mediums while collaborating with artists from different backgrounds, such as art, theatre, dance, film, and animation. ACM, ART, THEA, DNCE majors only. Pre: 216 (or concurrent) or ART 113 or THEA 353 (or concurrent) or THEA 356 (or concurrent). (Cross-listed as ART 315 and THEA 314)', 'credits': 3, 'instructor': 'L Margulies', 'department': 'Academy for Creative Media (ACM)'} 0a5b0a81-1715-5297-8333-cc01c2d24559\n",
            "create object\n",
            "create_uuid\n",
            "add to batch\n",
            "{'courseName': '3D Cinematography and Dynamics ', 'description': 'Computer animation directing and cinematography for the design and creation of visual effects. Using particles and dynamics systems to simulate natural phenomena. Compositing of visual layers. ACM majors only. A-F only. Pre: 215. DA', 'credits': 3, 'instructor': 'J Hahm', 'department': 'Academy for Creative Media (ACM)'} fd65649a-e5fd-5473-9ccd-0bae8e2f4ab9\n",
            "create object\n",
            "create_uuid\n",
            "add to batch\n",
            "{'courseName': 'Animation Production I ', 'description': 'Students work independently to produce a short, animated film. Emphasis on visual storytelling and character animation. ACM majors only. A-F only. Pre: 316B, and 350 or 355.', 'credits': 3, 'instructor': 'J F Parente', 'department': 'Academy for Creative Media (ACM)'} 3f1ca77d-3402-5eac-bbc7-aebc8a5b2fd7\n",
            "create object\n",
            "create_uuid\n",
            "add to batch\n",
            "{'courseName': 'Visual Effects ', 'description': 'Introduction to the history, theory, design and execution of visual effects for the screen. Project-based learning in traditional photographic and digitally-generated special effects. ACM majors only. A-F only. Pre: 215 and 216; or 310.', 'credits': 3, 'instructor': 'J F Parente', 'department': 'Academy for Creative Media (ACM)'} 456af77c-5364-5be3-9111-97dad8f1f13c\n",
            "create object\n",
            "create_uuid\n",
            "add to batch\n",
            "{'courseName': 'Independent Producing ', 'description': 'Fundamentals of producing for independent filmmaking, focusing on business acumen and role of the producer through various stages of production. Topics include proposal writing, script breakdowns, budgeting, scheduling, legal issues, festival strategy, and distribution. ACM majors only. A-F only. Pre: 255; and 310 or (215 and 216).', 'credits': 3, 'instructor': 'A M Misawa', 'department': 'Academy for Creative Media (ACM)'} 445a53ac-8349-5aeb-8627-23286d6fa61c\n",
            "create object\n",
            "create_uuid\n",
            "add to batch\n",
            "{'courseName': 'Screenwriting ', 'description': 'Introduction to the basics of writing a short narrative screenplay for film or animation. Students learn the fundamentals and format of screenwriting as well as basic elements of storytelling and character development. ACM majors only. A-F only. Pre: 310 (or concurrent) or 215 (or concurrent). DA', 'credits': 3, 'instructor': 'J Moffett', 'department': 'Academy for Creative Media (ACM)'} 34179e1a-919c-5bce-9de2-4a4aee13f155\n",
            "create object\n",
            "create_uuid\n",
            "add to batch\n",
            "{'courseName': 'Screenwriting ', 'description': 'Introduction to the basics of writing a short narrative screenplay for film or animation. Students learn the fundamentals and format of screenwriting as well as basic elements of storytelling and character development. ACM majors only. A-F only. Pre: 310 (or concurrent) or 215 (or concurrent). DA', 'credits': 3, 'instructor': 'L Flanary', 'department': 'Academy for Creative Media (ACM)'} 25e440e4-318a-59f4-94e2-151f7b2b1141\n",
            "create object\n",
            "create_uuid\n",
            "add to batch\n",
            "{'courseName': 'Screenwriting ', 'description': 'Introduction to the basics of writing a short narrative screenplay for film or animation. Students learn the fundamentals and format of screenwriting as well as basic elements of storytelling and character development. ACM majors only. A-F only. Pre: 310 (or concurrent) or 215 (or concurrent). DA', 'credits': 3, 'instructor': 'V Hereniko', 'department': 'Academy for Creative Media (ACM)'} e30433e9-0f7c-5600-ad6c-00f0e32eb12c\n",
            "create object\n",
            "create_uuid\n",
            "add to batch\n",
            "{'courseName': 'Indigenous Aesthetics ', 'description': 'Aesthetic theories and practices of indigenous cultures of the Pacific and their adaptation to the screen in cinematic storytelling. A-F only. Pre: 255 or consent.', 'credits': 3, 'instructor': 'L Flanary', 'department': 'Academy for Creative Media (ACM)'} fd9e39a1-cb8b-51dd-9cf1-64b27e443b6a\n",
            "create object\n",
            "create_uuid\n",
            "add to batch\n",
            "{'courseName': 'Directing the Actor on Screen ', 'description': 'Introduction of the screen-director to the craft of acting for the camera. Students will develop communication skills and learn practical techniques to elicit spontaneous and relaxed performances with actors from the Theatre\\nprogram. ACM Majors only. A-F only. Pre: 310 or (215 and 216); and 350 (or concurrent).', 'credits': 3, 'instructor': 'J Moffett', 'department': 'Academy for Creative Media (ACM)'} c74772d2-259e-5c2b-ad48-f4178164b5b7\n",
            "create object\n",
            "create_uuid\n",
            "add to batch\n",
            "{'courseName': 'Editing for Cinema ', 'description': 'Advanced course examining the theory, techniques, and practices of motion picture editing; use of non-linear digital editing systems; and practical experience in digital editing\\nprojects. ACM majors only. A-F only. Pre: 310; or 215 and 216. DA', 'credits': 3, 'instructor': 'C Wang', 'department': 'Academy for Creative Media (ACM)'} d8b1ab42-1694-5951-983b-4fa84e00c399\n",
            "create object\n",
            "create_uuid\n",
            "add to batch\n",
            "{'courseName': 'Post Production Sound ', 'description': 'Practical course on the theory, art, and techniques of sound recording, editing, and design for cinema. Students work on\\nprojects involving dialogue and sound effects in post production. ACM majors only. A-F only. Pre: 372 (or concurrent). DA', 'credits': 3, 'instructor': 'F Titz', 'department': 'Academy for Creative Media (ACM)'} 1f74a63d-87a3-516f-af0d-fb9651be086b\n",
            "create object\n",
            "create_uuid\n",
            "add to batch\n",
            "{'courseName': 'Genre and Narrative Theory in Creative Media ', 'description': 'Focus on the concept of genre, genre films, genre film criticism and popular genres such as\\nWestern, film noir, documentary, and Chinese martial arts. A-F only. Pre: 255 or consent.', 'credits': 3, 'instructor': 'V Hereniko', 'department': 'Academy for Creative Media (ACM)'} 9f89bb0b-fb1c-5f08-9666-9f4d32acaef8\n",
            "create object\n",
            "create_uuid\n",
            "add to batch\n",
            "{'courseName': 'Authors in Creative Media ', 'description': 'In-depth study of the auteur theory and specific application to authors in creative media, such as film directors, animators, screenwriters or game designers. A-F only. Pre: 255 or consent.', 'credits': 3, 'instructor': 'M Moody', 'department': 'Academy for Creative Media (ACM)'} c31adb46-ec97-569d-879d-0ae53e0946c9\n",
            "create object\n",
            "create_uuid\n",
            "add to batch\n",
            "{'courseName': 'Topics in Creative Media ', 'description': 'Topics of interest to faculty and students; taught by regular and visiting faculty. Repeatable one time on different topics. ACM majors only. A-F only. Pre: 255 or consent.', 'credits': 3, 'instructor': 'C A Acham', 'department': 'Academy for Creative Media (ACM)'} 4a7d0bbb-0222-5f0a-8eb2-8ed63cf9eb68\n",
            "create object\n",
            "create_uuid\n",
            "add to batch\n",
            "{'courseName': 'Techniques in Creative Media ', 'description': 'Specialized techniques in the creation of digital media: taught by regular and visiting faculty. Repeatable one time in different topics. ACM majors only. A-F only. Pre: 310, or 215 and 216.', 'credits': 3, 'instructor': 'C Wang', 'department': 'Academy for Creative Media (ACM)'} d02c21da-45e6-5747-ab49-2872601fcd73\n",
            "create object\n",
            "create_uuid\n",
            "add to batch\n",
            "{'courseName': 'Documentary Production ', 'description': 'Analysis and practical knowledge of the documentary process including, but not limited to, research, organization and story structure, shooting, camera coverage, and editing. ACM majors only. A-F only. Pre: 310, 350, and one of the following: 312, 330, 370, 372, or 374', 'credits': 3, 'instructor': 'L Flanary', 'department': 'Academy for Creative Media (ACM)'} f83db986-fb32-56c8-a7cf-79226853568c\n",
            "create object\n",
            "create_uuid\n",
            "add to batch\n",
            "{'courseName': 'Advanced Cinematic Production ', 'description': 'Production of a major cinematic/digital narrative project. Working in groups, each student takes on creative and technical role and responsibilities of a principle crew position. Emphasis on artistic form in narrative development; timely execution from pre- to post-production. ACM majors only. A-F only. Pre: 310; 350; and one of 312, 330, 370, 372, or 374.', 'credits': 3, 'instructor': 'T Takemoto-Chock', 'department': 'Academy for Creative Media (ACM)'} 9c85e368-20e8-5069-a930-13cb199b9cc3\n",
            "create object\n",
            "create_uuid\n",
            "add to batch\n",
            "{'courseName': 'Animation Production II ', 'description': 'Student teams produce a short, animated film. Prior knowledge of 2D and 3D media authoring tools and animation techniques is necessary. ACM majors only. A-F only. Pre: 320. DA', 'credits': 3, 'instructor': 'J Hahm', 'department': 'Academy for Creative Media (ACM)'} 8f870404-12ba-5ece-9460-b613e0ffb488\n",
            "create object\n",
            "create_uuid\n",
            "add to batch\n",
            "{'courseName': 'Advanced Screenwriting ', 'description': 'Application of narrative principles of character development, story structure, and thematic spine to to screenplays for\\nlive action and animated short films, television, or transmedia projects. ACM majors only. A-F only. Pre: 350. DA', 'credits': 3, 'instructor': 'J Moffett', 'department': 'Academy for Creative Media (ACM)'} 287c26ad-4cf4-5ab4-bb4d-6e92dc67abfa\n",
            "create object\n",
            "create_uuid\n",
            "add to batch\n",
            "{'courseName': 'Ethics and Film ', 'description': 'Ethical theory and dilemmas as reflected in film and filmmaking. Social responsibility for filmmakers. ACM majors only. A-F only. Pre: junior standing and 255.', 'credits': 3, 'instructor': 'M Moody', 'department': 'Academy for Creative Media (ACM)'} 5a580eb1-d560-597f-a557-f230d0015834\n",
            "create object\n",
            "create_uuid\n",
            "add to batch\n",
            "{'courseName': 'Narrative Feature Screenplay ', 'description': 'Builds upon the beginning and advanced screenwriting classes. Students will acquire knowledge and technical skills through critiquing feature length screenplays. Students will write a feature length screenplay that reflects their unique voice. Repeatable one time. ACM majors only. Junior standing or higher. Pre: 350 and 450.', 'credits': 3, 'instructor': 'M Moody', 'department': 'Academy for Creative Media (ACM)'} 7103ca9e-3a0d-51f4-9c3b-b8e871cda7dd\n",
            "create object\n",
            "create_uuid\n",
            "add to batch\n",
            "{'courseName': 'Capstone Creative Production ', 'description': 'Emphasis on advanced production skills in creating a capstone project in live-action fiction film, animation, documentary, or new media. Screenwriting students may also develop a feature screenplay or television pilot and series bible. Repeatable one time. ACM majors only. Pre: 405 or 410 or 420 or 455 or 475. DA', 'credits': 3, 'instructor': 'S E Schimmel', 'department': 'Academy for Creative Media (ACM)'} cd6f4183-02fb-5e54-b2e8-3bfb402a64c4\n",
            "create object\n",
            "create_uuid\n",
            "add to batch\n",
            "{'courseName': 'Video Game Design and Development ', 'description': 'Students will team design, build, and demonstrate video games or related interactive entertainment environments and applications. Topics will include emerging computer science techniques relevant to the development of these types of environments. Junior\\nstanding or higher. Pre: any 215 or ICS 110(Alpha) or ICS 111. (Cross-listed as ICS 485)', 'credits': 3, 'instructor': 'R S Tabalba', 'department': 'Academy for Creative Media (ACM)'} b224ba4b-395a-5f2b-9c36-d65d9bde724a\n",
            "create object\n",
            "create_uuid\n",
            "add to batch\n",
            "{'courseName': 'Introduction to Accounting I ', 'description': 'Introduction to managerial and financial accounting and methods used to record and report managerial and financial information to decision makers internal and external to the firm. Part I. A-F only. Sophomore standing or higher.', 'credits': 3, 'instructor': 'D C Yang', 'department': 'Accounting (ACC)'} 51ab17d5-ac6c-5af9-9526-27a31505a6fc\n",
            "create object\n",
            "create_uuid\n",
            "add to batch\n",
            "{'courseName': 'Introduction to Accounting I ', 'description': 'Introduction to managerial and financial accounting and methods used to record and report managerial and financial information to decision makers internal and external to the firm. Part I. A-F only. Sophomore standing or higher.', 'credits': 3, 'instructor': 'K V Santaniello', 'department': 'Accounting (ACC)'} b116d918-cb48-5368-b8df-3d22cd1b0a45\n",
            "create object\n",
            "create_uuid\n",
            "add to batch\n",
            "{'courseName': 'Introduction to Accounting I ', 'description': 'Introduction to managerial and financial accounting and methods used to record and report managerial and financial information to decision makers internal and external to the firm. Part I. A-F only. Sophomore standing or higher.', 'credits': 3, 'instructor': 'L Guan', 'department': 'Accounting (ACC)'} de7bee40-5dad-5e49-869b-1a9a08088641\n",
            "create object\n",
            "create_uuid\n",
            "add to batch\n",
            "{'courseName': 'Introduction to Accounting II ', 'description': 'Introduction to managerial and financial accounting and methods used to record and report managerial and financial information to decision makers internal and external to the firm. Part II. Pre: 200 (with a C- or better).', 'credits': 3, 'instructor': 'J N Teruya', 'department': 'Accounting (ACC)'} b9803c5d-0bf2-5fbc-b8dd-47d84ab9e0b0\n",
            "create object\n",
            "create_uuid\n",
            "add to batch\n",
            "{'courseName': 'Introduction to Accounting II ', 'description': 'Introduction to managerial and financial accounting and methods used to record and report managerial and financial information to decision makers internal and external to the firm. Part II. Pre: 200 (with a C- or better).', 'credits': 3, 'instructor': 'C M Kaiama', 'department': 'Accounting (ACC)'} 26d147e2-e124-50f5-95b3-91c4492e22f6\n",
            "create object\n",
            "create_uuid\n",
            "add to batch\n",
            "{'courseName': 'Introduction to Accounting II ', 'description': 'Introduction to managerial and financial accounting and methods used to record and report managerial and financial information to decision makers internal and external to the firm. Part II. Pre: 200 (with a C- or better).', 'credits': 3, 'instructor': 'B Jung', 'department': 'Accounting (ACC)'} 0669a417-ec57-54a1-9957-fc69937ac44b\n",
            "create object\n",
            "create_uuid\n",
            "add to batch\n",
            "{'courseName': 'Introduction to Accounting II ', 'description': 'Introduction to managerial and financial accounting and methods used to record and report managerial and financial information to decision makers internal and external to the firm. Part II. Pre: 200 (with a C- or better).', 'credits': 3, 'instructor': 'Y Park', 'department': 'Accounting (ACC)'} 7187374f-6a78-55df-aacd-8db5e1006bf2\n",
            "create object\n",
            "create_uuid\n",
            "add to batch\n",
            "{'courseName': 'Introduction to Accounting II ', 'description': 'Introduction to managerial and financial accounting and methods used to record and report managerial and financial information to decision makers internal and external to the firm. Part II. Pre: 200 (with a C- or better).', 'credits': 3, 'instructor': 'J Jung', 'department': 'Accounting (ACC)'} 53aaf96c-4836-5132-8c20-c6ea590fefa7\n",
            "create object\n",
            "create_uuid\n",
            "add to batch\n",
            "{'courseName': 'Intermediate Financial Accounting I ', 'description': 'Accounting process and the application of GAAP to the recognition and measurement of cash, receivables, inventories, property plant and equipment, depreciation and depletion, intangibles, and current liabilities. Pre: 200 and 210, or BUS 624 (with a minimum grade of C- or better).', 'credits': 3, 'instructor': 'S J Daniel', 'department': 'Accounting (ACC)'} c9b3cda3-30c1-5144-a7bb-eea9bf275e18\n",
            "create object\n",
            "create_uuid\n",
            "add to batch\n",
            "{'courseName': 'Intermediate Financial Accounting II ', 'description': 'Application of GAAP to the recognition and measurement of long-term liabilities, investments, contributed capital, retained earnings, accounting changes and errors, income recognition, accounting for income taxes, pensions, leases, and statement of cash flows. Pre: 321 with C- or better.', 'credits': 3, 'instructor': 'M C Woollen', 'department': 'Accounting (ACC)'} 35483135-2923-529b-b551-b977ac6ce8fd\n",
            "create object\n",
            "<class 'ValueError'>\n",
            "create_uuid\n",
            "add to batch\n",
            "{'courseName': 'Accounting Internship ', 'description': 'On-the-job experience in the accounting community. Term paper and meetings with faculty advisor required. CR/NC only. Pre: consent.', 'credits': 2, 'instructor': 'R W Varley', 'department': 'Accounting (ACC)'} 822aefea-ba52-5382-9701-504908ae885e\n",
            "create object\n",
            "create_uuid\n",
            "add to batch\n",
            "{'courseName': 'Federal Individual Income Taxation ', 'description': 'Examines federal income tax concepts, such as gross income, exclusions, deductions, exemptions, and tax credits, especially for sole proprietors. Introduces taxation of property transactions. Development of professional writing skills is integral to this course. Pre: 200 and 210, or BUS 624 (with a minimum grade of\\nC- or better).', 'credits': 3, 'instructor': 'M C Woollen', 'department': 'Accounting (ACC)'} 45ad4e8a-74f1-5c8e-851a-91085250ceb8\n",
            "create object\n",
            "create_uuid\n",
            "add to batch\n",
            "{'courseName': 'Accounting Information Systems ', 'description': 'Accounting systems analysis, control and design in manual and computerized environments. Knowledge and skills of information technology for auditing AIS systems. Hands-on experience with microcomputers and a computerized accounting system. A-F only. Pre: 323 (with C- or better or concurrent) and BUS 311 (with C or better).', 'credits': 3, 'instructor': 'J Lim', 'department': 'Accounting (ACC)'} 975350e7-54f8-51bc-b691-1f8cee8e4a81\n",
            "create object\n",
            "create_uuid\n",
            "add to batch\n",
            "{'courseName': 'Accounting Information Systems ', 'description': 'Accounting systems analysis, control and design in manual and computerized environments. Knowledge and skills of information technology for auditing AIS systems. Hands-on experience with microcomputers and a computerized accounting system. A-F only. Pre: 323 (with C- or better or concurrent) and BUS 311 (with C or better).', 'credits': 3, 'instructor': 'TBA', 'department': 'Accounting (ACC)'} 4203b571-dcd6-5c05-8852-71f4110cdaae\n",
            "create object\n",
            "create_uuid\n",
            "add to batch\n",
            "{'courseName': 'Law for the Accountant ', 'description': 'Intensive study of areas of law of importance to accountants. Particular attention is given to principles of law relating to contracts, sales, commercial paper, secured transactions, property, legal entities, agency, securities, and accountant’s legal liability. Pre: BLAW 200 or consent.', 'credits': 3, 'instructor': 'T J Messinger', 'department': 'Accounting (ACC)'} 20654f6f-c4b9-51f9-b748-c4d42d42ceea\n",
            "create object\n",
            "create_uuid\n",
            "add to batch\n",
            "{'courseName': 'Auditing ', 'description': 'Auditing concepts including standards, objectives and ethics for external auditors. Emphasis on reporting standards, internal control, evidence, statistical sampling, IT audits and assurance. Development of professional writing skills is an integral part of this course. Pre: 323 and 409, both with C- or better.', 'credits': 3, 'instructor': 'G T Nishikawa', 'department': 'Accounting (ACC)'} ed137b97-37e9-5ece-8393-cbb5e170fc4b\n",
            "create object\n",
            "create_uuid\n",
            "add to batch\n",
            "{'courseName': 'Auditing ', 'description': 'Auditing concepts including standards, objectives and ethics for external auditors. Emphasis on reporting standards, internal control, evidence, statistical sampling, IT audits and assurance. Development of professional writing skills is an integral part of this course. Pre: 323 and 409, both with C- or better.', 'credits': 3, 'instructor': 'J Zhou', 'department': 'Accounting (ACC)'} fe35224a-19fd-5ce2-928e-6f5e2b37c242\n",
            "create object\n",
            "create_uuid\n",
            "add to batch\n",
            "{'courseName': 'Auditing ', 'description': 'Auditing concepts including standards, objectives and ethics for external auditors. Emphasis on reporting standards, internal control, evidence, statistical sampling, IT audits and assurance. Development of professional writing skills is an integral part of this course. Pre: 323 and 409, both with C- or better.', 'credits': 3, 'instructor': 'TBA', 'department': 'Accounting (ACC)'} f1a66398-e24d-56a4-8584-de09d668c0a2\n",
            "create object\n",
            "create_uuid\n",
            "add to batch\n",
            "{'courseName': 'CPA Review-Audit and Attestation ', 'description': 'Auditing and Attestation (AUD) section covers the entire auditing process, including auditing procedures, generally accepted auditing standards, standards related to attest engagements, and the AICPA Code of Professional Conduct. CR/NC only. Pre: 418 (or concurrent).', 'credits': 1, 'instructor': 'H Pourjalali', 'department': 'Accounting (ACC)'} 89222038-0488-596f-a731-7769db642180\n",
            "create object\n",
            "create_uuid\n",
            "add to batch\n",
            "{'courseName': 'CPA Review-The Business Environment and Concepts ', 'description': 'The Business Environment and Concepts (BEC) section focuses on business concepts and the significance of a CPA’s professional duties and responsibilities within the larger context of the business environment. CR/NC only.', 'credits': 1, 'instructor': 'H Pourjalali', 'department': 'Accounting (ACC)'} 63622550-c62a-5fd9-823d-79eed83c348b\n",
            "create object\n",
            "create_uuid\n",
            "add to batch\n",
            "{'courseName': 'CPA Review-The Financial Accounting and Reporting ', 'description': 'The (FAR) section focuses on U.S. GAAP, including concepts and standards for financial statements, typical items in financial statements, specific types of transactions and events, accounting and reporting for governmental and other entities. CR/NC only. Pre: 323.', 'credits': 1, 'instructor': 'H Pourjalali', 'department': 'Accounting (ACC)'} 32415e47-fffa-5179-bdb3-3392d5959aee\n",
            "create object\n",
            "create_uuid\n",
            "add to batch\n",
            "{'courseName': 'CPA Review-The Regulation ', 'description': 'The Regulation section focuses on federal taxation, especially taxation of business entities; individuals, and property taxation, but also tests on business law, business ethics, and professional and legal responsibilities. Repeatable one time. CR/NC only. Co-requisite: 407.', 'credits': 1, 'instructor': 'H Pourjalali', 'department': 'Accounting (ACC)'} 60c2e5ef-70f3-58b4-9db8-f7b16f3a6a03\n",
            "create object\n",
            "create_uuid\n",
            "add to batch\n",
            "{'courseName': 'Information and Assurance and Analytics ', 'description': 'Focus on auditing processes, standards, and guidance specific to IT risks. Exposure to advanced IT audit software and its practical application and real world IT audit issues. Pre: 418 or 585 with C- or better, or consent', 'credits': 3, 'instructor': 'J Lim', 'department': 'Accounting (ACC)'} e8f2c548-71e2-5426-afbe-e1f0a5aa2ac6\n",
            "create object\n",
            "create_uuid\n",
            "add to batch\n",
            "{'courseName': 'Accounting and Tax Research ', 'description': 'In depth examination of tax and accounting research, IRC, and SEC procedures. Extensive practice in issue identification, reading and analyzing primary authority, and communicating results. Credit not given for both 606 and 625. Pre: 401 or 584 with C- or better, orientation program, or consent.', 'credits': 3, 'instructor': 'T C Pearson', 'department': 'Accounting (ACC)'} 6f33b377-7a9c-58a4-a5fb-b60614c6e8eb\n",
            "create object\n",
            "create_uuid\n",
            "add to batch\n",
            "{'courseName': 'Financial Statements Analysis ', 'description': 'Analyses of a firm’s profitability, liquidity, and solvency using ratios and common size financial statements. Students are expected to find strengths and weaknesses of the firm based on their analysis. A-F only. Pre: 323. Co-requisite: 660.', 'credits': 1, 'instructor': 'M J Mitsuyasu', 'department': 'Accounting (ACC)'} c897c653-299a-5401-8c1c-35f1052f3ac4\n",
            "create object\n",
            "create_uuid\n",
            "add to batch\n",
            "{'courseName': 'Analysis and Decision-Making ', 'description': 'Integrates learning through analysis and communication of comprehensive business problems. Stresses research, critical thinking, and analytical and communication skills applied to contemporary accounting and tax issues. Pre: 625 with C- or better (or concurrent), no waiver. Co-requisite: 648.', 'credits': 2, 'instructor': 'H Pourjalali', 'department': 'Accounting (ACC)'} b095e26f-5703-5d39-8a33-db97128efec3\n",
            "create object\n",
            "<class 'ValueError'>\n",
            "create_uuid\n",
            "add to batch\n",
            "{'courseName': 'Accounting Internship ', 'description': 'On-the-job experience in the accounting community. Necessary evaluation reports and meetings with faculty advisor required. ACC majors only. Pre: consent.', 'credits': 2, 'instructor': 'R W Varley', 'department': 'Accounting (ACC)'} cc724ceb-5ae7-5c61-a973-9dc7d208c63f\n"
          ]
        }
      ]
    },
    {
      "cell_type": "code",
      "source": [],
      "metadata": {
        "id": "BIWIYmNA6Wo5"
      },
      "execution_count": null,
      "outputs": []
    },
    {
      "cell_type": "markdown",
      "source": [
        "Query Data"
      ],
      "metadata": {
        "id": "JSQb64mV6Xgy"
      }
    },
    {
      "cell_type": "code",
      "source": [],
      "metadata": {
        "id": "-L8Lna2d6YVR"
      },
      "execution_count": null,
      "outputs": []
    },
    {
      "cell_type": "markdown",
      "source": [
        "see entries in VDB"
      ],
      "metadata": {
        "id": "etJQzCaf9j5q"
      }
    },
    {
      "cell_type": "code",
      "source": [
        "result = client.query.get(class_name='Course', properties=[\"courseName\",\"instructor\"])\\\n",
        "    .with_limit(200)\\\n",
        "    .do()\n",
        "\n",
        "print(f\"Number of courses returned: {len(result['data']['Get']['Course'])}\")\n",
        "result\n",
        "\n"
      ],
      "metadata": {
        "colab": {
          "base_uri": "https://localhost:8080/"
        },
        "id": "S7zw6Nel6Y2U",
        "outputId": "202ae837-91f6-4ede-c55f-fb2c48160bed"
      },
      "execution_count": 218,
      "outputs": [
        {
          "output_type": "stream",
          "name": "stdout",
          "text": [
            "Number of courses returned: 51\n"
          ]
        },
        {
          "output_type": "execute_result",
          "data": {
            "text/plain": [
              "{'data': {'Get': {'Course': [{'courseName': 'Introduction to Accounting II ',\n",
              "     'instructor': 'B Jung'},\n",
              "    {'courseName': 'Cinematography ', 'instructor': 'F Titz'},\n",
              "    {'courseName': 'Experimental Art and Animation ',\n",
              "     'instructor': 'L Margulies'},\n",
              "    {'courseName': 'Cinematic Narrative Production ', 'instructor': 'F Titz'},\n",
              "    {'courseName': 'Post Production Sound ', 'instructor': 'F Titz'},\n",
              "    {'courseName': 'Law for the Accountant ', 'instructor': 'T J Messinger'},\n",
              "    {'courseName': 'Introduction to 3D Computer Animation ',\n",
              "     'instructor': 'J F Parente'},\n",
              "    {'courseName': 'Screenwriting ', 'instructor': 'L Flanary'},\n",
              "    {'courseName': 'Fundamentals of Animation ', 'instructor': 'L Margulies'},\n",
              "    {'courseName': 'Introduction to Accounting II ',\n",
              "     'instructor': 'C M Kaiama'},\n",
              "    {'courseName': 'Advanced Screenwriting ', 'instructor': 'J Moffett'},\n",
              "    {'courseName': 'Screenwriting ', 'instructor': 'J Moffett'},\n",
              "    {'courseName': 'Intermediate Financial Accounting II ',\n",
              "     'instructor': 'M C Woollen'},\n",
              "    {'courseName': 'Animation Production I ', 'instructor': 'J F Parente'},\n",
              "    {'courseName': 'Accounting Information Systems ', 'instructor': 'TBA'},\n",
              "    {'courseName': 'Independent Producing ', 'instructor': 'A M Misawa'},\n",
              "    {'courseName': 'Visual Effects ', 'instructor': 'J F Parente'},\n",
              "    {'courseName': 'Federal Individual Income Taxation ',\n",
              "     'instructor': 'M C Woollen'},\n",
              "    {'courseName': 'Topics in Creative Media ', 'instructor': 'C A Acham'},\n",
              "    {'courseName': 'Introduction to Accounting I ', 'instructor': 'D C Yang'},\n",
              "    {'courseName': 'Introduction to Accounting II ', 'instructor': 'J Jung'},\n",
              "    {'courseName': 'Ethics and Film ', 'instructor': 'M Moody'},\n",
              "    {'courseName': 'CPA Review-The Business Environment and Concepts ',\n",
              "     'instructor': 'H Pourjalali'},\n",
              "    {'courseName': 'Narrative Feature Screenplay ', 'instructor': 'M Moody'},\n",
              "    {'courseName': 'Introduction to Accounting II ', 'instructor': 'Y Park'},\n",
              "    {'courseName': 'Accounting Internship ', 'instructor': 'R W Varley'},\n",
              "    {'courseName': 'CPA Review-Audit and Attestation ',\n",
              "     'instructor': 'H Pourjalali'},\n",
              "    {'courseName': 'Animation Production II ', 'instructor': 'J Hahm'},\n",
              "    {'courseName': 'Accounting Information Systems ', 'instructor': 'J Lim'},\n",
              "    {'courseName': 'Advanced Cinematic Production ',\n",
              "     'instructor': 'T Takemoto-Chock'},\n",
              "    {'courseName': 'Genre and Narrative Theory in Creative Media ',\n",
              "     'instructor': 'V Hereniko'},\n",
              "    {'courseName': 'Introduction to 3D Computer Animation ',\n",
              "     'instructor': 'J F Parente'},\n",
              "    {'courseName': 'Cinematic Narrative Production ',\n",
              "     'instructor': 'S E Schimmel'},\n",
              "    {'courseName': 'Introduction to Accounting I ',\n",
              "     'instructor': 'K V Santaniello'},\n",
              "    {'courseName': 'Video Game Design and Development ',\n",
              "     'instructor': 'R S Tabalba'},\n",
              "    {'courseName': 'Introduction to Accounting II ',\n",
              "     'instructor': 'J N Teruya'},\n",
              "    {'courseName': 'Authors in Creative Media ', 'instructor': 'M Moody'},\n",
              "    {'courseName': 'Directing the Actor on Screen ',\n",
              "     'instructor': 'J Moffett'},\n",
              "    {'courseName': 'Intermediate Financial Accounting I ',\n",
              "     'instructor': 'S J Daniel'},\n",
              "    {'courseName': 'Capstone Creative Production ',\n",
              "     'instructor': 'S E Schimmel'},\n",
              "    {'courseName': 'Techniques in Creative Media ', 'instructor': 'C Wang'},\n",
              "    {'courseName': 'Editing for Cinema ', 'instructor': 'C Wang'},\n",
              "    {'courseName': 'Introduction to Accounting I ', 'instructor': 'L Guan'},\n",
              "    {'courseName': 'Screenwriting ', 'instructor': 'V Hereniko'},\n",
              "    {'courseName': 'Auditing ', 'instructor': 'G T Nishikawa'},\n",
              "    {'courseName': 'Auditing ', 'instructor': 'TBA'},\n",
              "    {'courseName': 'Documentary Production ', 'instructor': 'L Flanary'},\n",
              "    {'courseName': '3D Cinematography and Dynamics ', 'instructor': 'J Hahm'},\n",
              "    {'courseName': 'Indigenous Aesthetics ', 'instructor': 'L Flanary'},\n",
              "    {'courseName': 'Auditing ', 'instructor': 'J Zhou'},\n",
              "    {'courseName': 'Introduction to Cinema and Digital Media ',\n",
              "     'instructor': 'A H Ladner'}]}}}"
            ]
          },
          "metadata": {},
          "execution_count": 218
        }
      ]
    },
    {
      "cell_type": "code",
      "source": [
        "query = 'cartoons'\n",
        "q_vec = model.encode(query)\n",
        "\n",
        "nearVec= {\"vector\":q_vec}\n",
        "res = client.query.get(class_name='Course', properties=[\"courseName\",\"instructor\"])\\\n",
        "    .with_limit(5)\\\n",
        "    .with_near_vector(nearVec)\\\n",
        "    .do()\n",
        "\n",
        "res"
      ],
      "metadata": {
        "colab": {
          "base_uri": "https://localhost:8080/"
        },
        "id": "0aqzSowuCYiu",
        "outputId": "3f41ddd6-0090-493e-c422-fad8bb7714f5"
      },
      "execution_count": 225,
      "outputs": [
        {
          "output_type": "execute_result",
          "data": {
            "text/plain": [
              "{'data': {'Get': {'Course': [{'courseName': 'Fundamentals of Animation ',\n",
              "     'instructor': 'L Margulies'},\n",
              "    {'courseName': 'Introduction to 3D Computer Animation ',\n",
              "     'instructor': 'J F Parente'},\n",
              "    {'courseName': 'Introduction to 3D Computer Animation ',\n",
              "     'instructor': 'J F Parente'},\n",
              "    {'courseName': 'Experimental Art and Animation ',\n",
              "     'instructor': 'L Margulies'},\n",
              "    {'courseName': 'Indigenous Aesthetics ', 'instructor': 'L Flanary'}]}}}"
            ]
          },
          "metadata": {},
          "execution_count": 225
        }
      ]
    },
    {
      "cell_type": "code",
      "source": [],
      "metadata": {
        "id": "24mJAI_kKtrM"
      },
      "execution_count": null,
      "outputs": []
    }
  ]
}